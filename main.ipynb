{
  "nbformat": 4,
  "nbformat_minor": 0,
  "metadata": {
    "colab": {
      "provenance": [],
      "authorship_tag": "ABX9TyPzogH6qqG15iWGOiVp6kQc",
      "include_colab_link": true
    },
    "kernelspec": {
      "name": "python3",
      "display_name": "Python 3"
    },
    "language_info": {
      "name": "python"
    }
  },
  "cells": [
    {
      "cell_type": "markdown",
      "metadata": {
        "id": "view-in-github",
        "colab_type": "text"
      },
      "source": [
        "<a href=\"https://colab.research.google.com/github/GenaroHacker/creating_chord_collection/blob/main/main.ipynb\" target=\"_parent\"><img src=\"https://colab.research.google.com/assets/colab-badge.svg\" alt=\"Open In Colab\"/></a>"
      ]
    },
    {
      "cell_type": "code",
      "source": [
        "%%capture\n",
        "#@title Set Up\n",
        "!git clone https://github.com/GenaroHacker/write_imports.git\n",
        "from write_imports.write_imports import write_imports\n",
        "\n",
        "!git clone https://github.com/GenaroHacker/creating_chord_collection.git\n",
        "\n",
        "\n",
        "from creating_chord_collection.collection.resources.scales import scales\n",
        "from creating_chord_collection.collection.resources.transposable_figures import transposable_figures\n",
        "\n"
      ],
      "metadata": {
        "cellView": "form",
        "id": "94Ibuwzoov1A"
      },
      "execution_count": 1,
      "outputs": []
    },
    {
      "cell_type": "code",
      "source": [
        "\n",
        "\n",
        "\n",
        "# Delete this line to see the new imports\n",
        "%%capture\n",
        "\n",
        "\n",
        "\n",
        "#@title Import Statements\n",
        "#Modules: ['write_imports', 'creating_chord_collection']\n",
        "\n",
        "\n",
        "\n",
        "from write_imports.write_imports import write_imports\n",
        "\n",
        "from write_imports.LearningPython.BasicExamples.intro_functions import print_hello_world\n",
        "\n",
        "\n",
        "from creating_chord_collection.collection.chord import GuitarChord\n",
        "\n",
        "from creating_chord_collection.collection.collection import ChordCollection\n",
        "\n",
        "\n",
        "\n",
        "\n",
        "\n",
        "\n",
        "\n",
        "print(write_imports([]))\n",
        "\n",
        "\n",
        "\n",
        "\n"
      ],
      "metadata": {
        "cellView": "form",
        "id": "7ZQWsxX8o3Rk"
      },
      "execution_count": 2,
      "outputs": []
    },
    {
      "cell_type": "code",
      "execution_count": 3,
      "metadata": {
        "colab": {
          "base_uri": "https://localhost:8080/"
        },
        "id": "W7O7u4sZN4zg",
        "outputId": "be5e15ae-a322-4659-d053-130bdd2fdf72",
        "cellView": "form"
      },
      "outputs": [
        {
          "output_type": "stream",
          "name": "stdout",
          "text": [
            "('E', 'm', finger_ascending=[0, 0, 0, 2, 2, 0], starting_fret=1)\n",
            "String Frequencies: {1: 329.63, 2: 246.94, 3: 196.0, 4: 164.81110255326524, 5: 123.47082531403103, 6: 82.41}\n",
            "Is Open Chord: True\n",
            "{1: 'E', 2: 'B', 3: 'G', 4: 'E', 5: 'B', 6: 'E'}\n",
            "['E', 'B', 'G']\n",
            "Chord fits in C major scale: True\n"
          ]
        }
      ],
      "source": [
        "# @title Chord\n",
        "\n",
        "\n",
        "# Example\n",
        "chord = GuitarChord('E', 'm', transposable_figures, finger_ascending=[0, 0, 0, 2, 2, 0], starting_fret=1)\n",
        "print(chord)\n",
        "print(\"String Frequencies:\", chord.calculate_frequencies())\n",
        "print(\"Is Open Chord:\", chord.is_open())\n",
        "chord.transpose(0)\n",
        "print(chord.get_notes(include_strings=True))\n",
        "print(chord.get_notes())\n",
        "\n",
        "# Validate the chord against the C major scale\n",
        "ionian_scale = scales[\"ionian\"]\n",
        "tonic = \"C\"\n",
        "is_chord_in_scale = chord.validate_against_scale(tonic, ionian_scale)\n",
        "print(f\"Chord fits in C major scale: {is_chord_in_scale}\")\n"
      ]
    },
    {
      "cell_type": "code",
      "source": [
        "# @title Abstract Builders\n",
        "class AbstractBuilder:\n",
        "    def __init__(self):\n",
        "        self.image_size = (1, 1)\n",
        "        self.frets_endpoints = {}\n",
        "        self.strings_endpoints = {}\n",
        "        self.notes_coordenates = None\n",
        "        self.name_coordenate = (1, 1)\n",
        "        self.font = \"arial\"\n",
        "        self.font_size = 12\n",
        "\n",
        "        self.root = None\n",
        "        self.starting_fret = None\n",
        "\n",
        "        self.chord_type = None\n",
        "        self.finger_ascending = None\n",
        "\n",
        "        self.scale_name = None\n",
        "        self.scale = None\n",
        "\n",
        "\n",
        "\n",
        "    def draw_boundaries(self):\n",
        "        # Create an image with a white background\n",
        "        self.image = Image.new('RGB', self.image_size, 'white')\n",
        "        self.draw = ImageDraw.Draw(self.image)\n",
        "\n",
        "    def draw_frets(self):\n",
        "        # Draw frets lines\n",
        "        for y in self.frets_endpoints['y']:\n",
        "            self.draw.line((self.frets_endpoints['x'][0], y, self.frets_endpoints['x'][1], y), fill='black')\n",
        "\n",
        "    def draw_strings(self):\n",
        "        # Draw strings lines\n",
        "        for x in self.strings_endpoints['x']:\n",
        "            self.draw.line((x, self.strings_endpoints['y'][0], x, self.strings_endpoints['y'][1]), fill='black')\n",
        "\n",
        "    def write_starting_fret(self):\n",
        "        raise NotImplementedError\n",
        "\n",
        "    def write_name(self, name):\n",
        "        # Write the name on the image\n",
        "        try:\n",
        "            font = ImageFont.truetype(self.font, self.font_size)\n",
        "        except IOError:\n",
        "            font = ImageFont.load_default()\n",
        "        self.draw.text(self.name_coordenate, name, fill='black', font=font)\n",
        "\n",
        "    def draw_notes(self, notes_style):\n",
        "        raise NotImplementedError\n",
        "\n",
        "    def get_result(self):\n",
        "        return self.image\n",
        "\n",
        "class ShortAbstractBuilder(AbstractBuilder):\n",
        "    def __init__(self):\n",
        "        self.image_size = (351, 351)\n",
        "\n",
        "        # Frets endpoints as a dictionary with unique x and y coordinates\n",
        "        self.frets_endpoints = {\n",
        "            \"x\": [78, 273],  # x-coordinates (start and end for all frets)\n",
        "            \"y\": [107, 157, 207, 257, 307]  # y-coordinates for each fret\n",
        "        }\n",
        "\n",
        "        # Strings endpoints as a dictionary with unique x and y coordinates\n",
        "        self.strings_endpoints = {\n",
        "            \"x\": [78, 117, 156, 195, 234, 273],  # x-coordinates for each string\n",
        "            \"y\": [107, 307]  # y-coordinates (start and end for all strings)\n",
        "        }\n",
        "\n",
        "        self.notes_coordenates = {\n",
        "            \"strings\": [273, 234, 195, 156, 117, 78],  # s1 to s6\n",
        "            \"frets\": [82, 132, 182, 232, 282]  # f0 to f4\n",
        "        }\n",
        "\n",
        "        self.name_coordenate = (175, 40)\n",
        "\n",
        "\n",
        "\n",
        "\n",
        "class LongAbstractBuilder(AbstractBuilder):\n",
        "    def __init__(self):\n",
        "        # Updated image size with additional height\n",
        "        self.image_size = (717, 362)\n",
        "\n",
        "        # Updated y-coordinates in frets_endpoints\n",
        "        self.frets_endpoints = {\n",
        "            \"x\": [67, 117, 167, 217, 267, 317, 367, 417, 467, 517, 567, 617, 667],\n",
        "            \"y\": [277, 238, 199, 160, 121, 82]\n",
        "        }\n",
        "\n",
        "        # Updated y-coordinates in strings_endpoints\n",
        "        self.strings_endpoints = {\n",
        "            \"x\": [67, 667],\n",
        "            \"y\": [82, 121, 160, 199, 238, 277]\n",
        "        }\n",
        "\n",
        "        # Updated y-coordinates in notes_coordenates for strings\n",
        "        self.notes_coordenates = {\n",
        "            \"strings\": [82, 121, 160, 199, 238, 277], # y-coordinates for strings\n",
        "            \"frets\": [42, 92, 142, 192, 242, 292, 342, 392, 442, 492, 542, 592, 642]  # x-coordinates for frets\n",
        "        }\n",
        "\n",
        "        self.name_coordenate = (358, 40)\n",
        "\n",
        "\n"
      ],
      "metadata": {
        "id": "vW5Waa1yJuqz"
      },
      "execution_count": 15,
      "outputs": []
    },
    {
      "cell_type": "code",
      "source": [
        "# @title Concrete Builders\n",
        "class ShortChordBuilder(ShortAbstractBuilder):\n",
        "    def __init__(self):\n",
        "        super().__init__()\n",
        "        self.is_scale = False\n",
        "        # Implement specific methods\n",
        "\n",
        "class ShortScaleBuilder(ShortAbstractBuilder):\n",
        "    def __init__(self):\n",
        "        super().__init__()\n",
        "        self.is_scale = True\n",
        "        # Implement specific methods\n",
        "\n",
        "class LongChordBuilder(LongAbstractBuilder):\n",
        "    def __init__(self):\n",
        "        super().__init__()\n",
        "        self.is_scale = False\n",
        "        # Implement specific methods\n",
        "\n",
        "class LongScaleBuilder(LongAbstractBuilder):\n",
        "    def __init__(self):\n",
        "        super().__init__()\n",
        "        self.is_scale = True\n",
        "        # Implement specific methods\n"
      ],
      "metadata": {
        "cellView": "form",
        "id": "kvsfnmRdJyjU"
      },
      "execution_count": 10,
      "outputs": []
    },
    {
      "cell_type": "code",
      "source": [
        "# @title Director\n",
        "class Director:\n",
        "    def __init__(self, builder):\n",
        "        self._builder = builder\n",
        "\n",
        "    def build_chord(self, chord):\n",
        "        self._builder.draw_boundaries()\n",
        "        self._builder.root = chord.root\n",
        "        self._builder.chord_type = chord.chord_type\n",
        "        self._builder.finger_ascending = chord.finger_ascending\n",
        "        self._builder.starting_fret = chord.starting_fret\n",
        "        self._builder.draw_boundaries()\n",
        "\n",
        "    def build_scale(self, scale):\n",
        "        self._builder.draw_boundaries()\n",
        "        self._builder.root = scale.root\n",
        "        self._builder.scale_name = scale.name\n",
        "        self._builder.starting_fret = scale.starting_fret\n",
        "        self._builder.scale = scale\n"
      ],
      "metadata": {
        "id": "rXVmS8gTJ01V"
      },
      "execution_count": 11,
      "outputs": []
    },
    {
      "cell_type": "code",
      "source": [
        "# @title Execution\n",
        "from PIL import Image, ImageDraw, ImageFont\n",
        "from IPython.display import display\n",
        "\n",
        "# Example usage for a chord\n",
        "chord = GuitarChord('E', 'm', transposable_figures, finger_ascending=[0, 0, 0, 2, 2, 0], starting_fret=1)\n",
        "builder = ShortChordBuilder()\n",
        "director = Director(builder)\n",
        "director.build_chord(chord)\n",
        "\n",
        "# Get the final image result\n",
        "result_image = builder.get_result()\n",
        "\n",
        "# Display the image in the Jupyter notebook\n",
        "display(result_image)\n"
      ],
      "metadata": {
        "colab": {
          "base_uri": "https://localhost:8080/",
          "height": 368
        },
        "id": "TCvhWtBLJ11y",
        "outputId": "ca0f924a-009e-4c44-97a0-f5a5f2300fab"
      },
      "execution_count": 16,
      "outputs": [
        {
          "output_type": "display_data",
          "data": {
            "text/plain": [
              "<PIL.Image.Image image mode=RGB size=351x351>"
            ],
            "image/png": "[encoded data removed]"
          },
          "metadata": {}
        }
      ]
    }
  ]
}