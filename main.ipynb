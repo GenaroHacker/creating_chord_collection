{
  "nbformat": 4,
  "nbformat_minor": 0,
  "metadata": {
    "colab": {
      "provenance": [],
      "authorship_tag": "ABX9TyN716oWwzej1eV2gh4godY3",
      "include_colab_link": true
    },
    "kernelspec": {
      "name": "python3",
      "display_name": "Python 3"
    },
    "language_info": {
      "name": "python"
    }
  },
  "cells": [
    {
      "cell_type": "markdown",
      "metadata": {
        "id": "view-in-github",
        "colab_type": "text"
      },
      "source": [
        "<a href=\"https://colab.research.google.com/github/GenaroHacker/creating_chord_collection/blob/main/main.ipynb\" target=\"_parent\"><img src=\"https://colab.research.google.com/assets/colab-badge.svg\" alt=\"Open In Colab\"/></a>"
      ]
    },
    {
      "cell_type": "code",
      "source": [
        "%%capture\n",
        "#@title Set Up\n",
        "!git clone https://github.com/GenaroHacker/write_imports.git\n",
        "from write_imports.write_imports import write_imports\n",
        "\n",
        "!git clone https://github.com/GenaroHacker/creating_chord_collection.git\n",
        "\n",
        "\n",
        "from creating_chord_collection.collection.resources.scales import scales\n",
        "from creating_chord_collection.collection.resources.transposable_figures import transposable_figures\n",
        "\n"
      ],
      "metadata": {
        "cellView": "form",
        "id": "94Ibuwzoov1A"
      },
      "execution_count": 1,
      "outputs": []
    },
    {
      "cell_type": "code",
      "source": [
        "\n",
        "\n",
        "\n",
        "# Delete this line to see the new imports\n",
        "%%capture\n",
        "\n",
        "\n",
        "\n",
        "#@title Import Statements\n",
        "#Modules: ['write_imports', 'creating_chord_collection']\n",
        "\n",
        "\n",
        "\n",
        "from write_imports.write_imports import write_imports\n",
        "\n",
        "from write_imports.LearningPython.BasicExamples.intro_functions import print_hello_world\n",
        "\n",
        "\n",
        "from creating_chord_collection.collection.chord import GuitarChord\n",
        "\n",
        "from creating_chord_collection.collection.collection import ChordCollection\n",
        "\n",
        "\n",
        "\n",
        "\n",
        "\n",
        "\n",
        "\n",
        "print(write_imports([]))\n",
        "\n",
        "\n",
        "\n",
        "\n"
      ],
      "metadata": {
        "cellView": "form",
        "id": "7ZQWsxX8o3Rk"
      },
      "execution_count": 2,
      "outputs": []
    },
    {
      "cell_type": "code",
      "execution_count": 3,
      "metadata": {
        "colab": {
          "base_uri": "https://localhost:8080/"
        },
        "id": "W7O7u4sZN4zg",
        "outputId": "82e1ae05-7f3b-410a-c90d-95e31b7cb04c",
        "cellView": "form"
      },
      "outputs": [
        {
          "output_type": "stream",
          "name": "stdout",
          "text": [
            "('E', 'm', finger_ascending=[0, 0, 0, 2, 2, 0], starting_fret=1)\n",
            "String Frequencies: {1: 329.63, 2: 246.94, 3: 196.0, 4: 164.81110255326524, 5: 123.47082531403103, 6: 82.41}\n",
            "Is Open Chord: True\n",
            "{1: 'E', 2: 'B', 3: 'G', 4: 'E', 5: 'B', 6: 'E'}\n",
            "['E', 'B', 'G']\n",
            "Chord fits in C major scale: True\n"
          ]
        }
      ],
      "source": [
        "# @title Chord\n",
        "\n",
        "\n",
        "# Example\n",
        "chord = GuitarChord('E', 'm', transposable_figures, finger_ascending=[0, 0, 0, 2, 2, 0], starting_fret=1)\n",
        "print(chord)\n",
        "print(\"String Frequencies:\", chord.calculate_frequencies())\n",
        "print(\"Is Open Chord:\", chord.is_open())\n",
        "chord.transpose(0)\n",
        "print(chord.get_notes(include_strings=True))\n",
        "print(chord.get_notes())\n",
        "\n",
        "# Validate the chord against the C major scale\n",
        "ionian_scale = scales[\"ionian\"]\n",
        "tonic = \"C\"\n",
        "is_chord_in_scale = chord.validate_against_scale(tonic, ionian_scale)\n",
        "print(f\"Chord fits in C major scale: {is_chord_in_scale}\")\n"
      ]
    },
    {
      "cell_type": "code",
      "source": [
        "# @title Collection\n",
        "\n",
        "\n",
        "\n",
        "# Example usage\n",
        "chord_collection = ChordCollection()\n",
        "chord_collection.load('/content/creating_chord_collection/collection/resources/chord_collection.db')\n",
        "\n",
        "chord = chord_collection.chords[6]\n",
        "print(chord)\n",
        "chord.transpose(1)\n",
        "print(chord)\n",
        "chord_collection.save('new_chord_collection.db')\n",
        "print(f\"Collection Size: {len(chord_collection.chords)}\")\n",
        "chord_collection.extend_barre_chords()\n",
        "print(f\"Collection Size: {len(chord_collection.chords)}\")\n",
        "\n",
        "whitelist = {\n",
        "     \"root\": [\"C\", \"F\", \"G\"],\n",
        "     \"chord_type\": [\"\", \"m\", \"dim\"],\n",
        "     \"open\": [False],\n",
        "     \"starting_fret\": [1, 2, 5, 9],\n",
        "     \"include_string\": [1, 2],\n",
        "     \"inversion\": [1, 2, 3, None],\n",
        "     \"scale\": [(\"C\", scales[\"ionian\"])]\n",
        " }\n",
        "\n",
        "filtered_chords = chord_collection.only(whitelist)\n",
        "print(f\"Remaining after whitelist filter: {len(filtered_chords)}\")\n",
        "\n",
        "blacklist = whitelist\n",
        "filtered_chords = chord_collection.filter_out(blacklist)\n",
        "print(f\"Remaining after blacklist filter: {len(filtered_chords)}\")\n",
        "\n",
        "tonality = chord_collection.get_tonality(\"B\", scales[\"mixolydian\"], amplitude=3, rank=2)\n",
        "print(f\"Chords in tonality: {len(tonality)}\")\n"
      ],
      "metadata": {
        "colab": {
          "base_uri": "https://localhost:8080/"
        },
        "id": "u7geZFZHVCDE",
        "outputId": "f5c4a38d-163d-43e0-eda0-de7569bc27b1",
        "cellView": "form"
      },
      "execution_count": 4,
      "outputs": [
        {
          "output_type": "stream",
          "name": "stdout",
          "text": [
            "('A', 'm', finger_ascending=[0, 1, 2, 2, 0, None], starting_fret=1)\n",
            "('A#', 'm', finger_ascending=[1, 2, 3, 3, 1, None], starting_fret=1)\n",
            "Collection Size: 132\n",
            "Collection Size: 328\n",
            "Remaining after whitelist filter: 1\n",
            "Remaining after blacklist filter: 327\n",
            "Chords in tonality: 16\n"
          ]
        }
      ]
    }
  ]
}