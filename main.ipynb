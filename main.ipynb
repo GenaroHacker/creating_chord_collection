{
  "nbformat": 4,
  "nbformat_minor": 0,
  "metadata": {
    "colab": {
      "provenance": [],
      "authorship_tag": "ABX9TyMXwauOKBZwAEIq6htH5ClH",
      "include_colab_link": true
    },
    "kernelspec": {
      "name": "python3",
      "display_name": "Python 3"
    },
    "language_info": {
      "name": "python"
    }
  },
  "cells": [
    {
      "cell_type": "markdown",
      "metadata": {
        "id": "view-in-github",
        "colab_type": "text"
      },
      "source": [
        "<a href=\"https://colab.research.google.com/github/GenaroHacker/creating_chord_collection/blob/main/main.ipynb\" target=\"_parent\"><img src=\"https://colab.research.google.com/assets/colab-badge.svg\" alt=\"Open In Colab\"/></a>"
      ]
    },
    {
      "cell_type": "code",
      "source": [
        "%%capture\n",
        "#@title Set Up\n",
        "!git clone https://github.com/GenaroHacker/write_imports.git\n",
        "from write_imports.write_imports import write_imports\n",
        "\n",
        "!git clone https://github.com/GenaroHacker/creating_chord_collection.git\n",
        "\n",
        "\n",
        "from creating_chord_collection.collection.resources.scales import scales\n",
        "from creating_chord_collection.collection.resources.transposable_figures import transposable_figures\n",
        "\n"
      ],
      "metadata": {
        "cellView": "form",
        "id": "94Ibuwzoov1A"
      },
      "execution_count": 1,
      "outputs": []
    },
    {
      "cell_type": "code",
      "source": [
        "\n",
        "\n",
        "\n",
        "# Delete this line to see the new imports\n",
        "%%capture\n",
        "\n",
        "\n",
        "\n",
        "#@title Import Statements\n",
        "#Modules: ['write_imports', 'creating_chord_collection']\n",
        "\n",
        "\n",
        "\n",
        "from write_imports.write_imports import write_imports\n",
        "\n",
        "from write_imports.LearningPython.BasicExamples.intro_functions import print_hello_world\n",
        "\n",
        "\n",
        "from creating_chord_collection.collection.chord import GuitarChord\n",
        "\n",
        "from creating_chord_collection.collection.collection import ChordCollection\n",
        "\n",
        "\n",
        "\n",
        "\n",
        "\n",
        "\n",
        "\n",
        "print(write_imports([]))\n",
        "\n",
        "\n",
        "\n",
        "\n"
      ],
      "metadata": {
        "cellView": "form",
        "id": "7ZQWsxX8o3Rk"
      },
      "execution_count": 2,
      "outputs": []
    },
    {
      "cell_type": "code",
      "execution_count": 3,
      "metadata": {
        "colab": {
          "base_uri": "https://localhost:8080/"
        },
        "id": "W7O7u4sZN4zg",
        "outputId": "9be3ddd0-d54b-4d38-f03e-2aa101678e2e",
        "cellView": "form"
      },
      "outputs": [
        {
          "output_type": "stream",
          "name": "stdout",
          "text": [
            "('E', 'm', finger_ascending=[0, 0, 0, 2, 2, 0], starting_fret=1)\n",
            "String Frequencies: {1: 329.63, 2: 246.94, 3: 196.0, 4: 164.81110255326524, 5: 123.47082531403103, 6: 82.41}\n",
            "Is Open Chord: True\n",
            "{1: 'E', 2: 'B', 3: 'G', 4: 'E', 5: 'B', 6: 'E'}\n",
            "['E', 'B', 'G']\n",
            "Chord fits in C major scale: True\n"
          ]
        }
      ],
      "source": [
        "# @title Chord\n",
        "\n",
        "\n",
        "# Example\n",
        "chord = GuitarChord('E', 'm', transposable_figures, finger_ascending=[0, 0, 0, 2, 2, 0], starting_fret=1)\n",
        "print(chord)\n",
        "print(\"String Frequencies:\", chord.calculate_frequencies())\n",
        "print(\"Is Open Chord:\", chord.is_open())\n",
        "chord.transpose(0)\n",
        "print(chord.get_notes(include_strings=True))\n",
        "print(chord.get_notes())\n",
        "\n",
        "# Validate the chord against the C major scale\n",
        "ionian_scale = scales[\"ionian\"]\n",
        "tonic = \"C\"\n",
        "is_chord_in_scale = chord.validate_against_scale(tonic, ionian_scale)\n",
        "print(f\"Chord fits in C major scale: {is_chord_in_scale}\")\n"
      ]
    },
    {
      "cell_type": "code",
      "source": [
        "# @title AbstractBuilder\n",
        "class AbstractBuilder:\n",
        "    def __init__(self):\n",
        "        self.image_size = None\n",
        "        self.frets_endpoints = None\n",
        "        self.strings_endpoints = None\n",
        "        self.notes_coordenates = None\n",
        "        self.finger_ascending = None\n",
        "        self.is_scale = None\n",
        "        self.font = None\n",
        "        self.font_size = None\n",
        "        self.starting_fret = None\n",
        "        self.scale = None\n",
        "\n",
        "    def draw_image(self):\n",
        "        raise NotImplementedError\n",
        "\n",
        "    def draw_frets(self):\n",
        "        raise NotImplementedError\n",
        "\n",
        "    def draw_strings(self):\n",
        "        raise NotImplementedError\n",
        "\n",
        "    def write_starting_fret(self):\n",
        "        raise NotImplementedError\n",
        "\n",
        "    def write_name(self, name):\n",
        "        raise NotImplementedError\n",
        "\n",
        "    def draw_notes(self, notes_style):\n",
        "        raise NotImplementedError\n",
        "\n",
        "    def get_result(self):\n",
        "        raise NotImplementedError\n"
      ],
      "metadata": {
        "id": "vW5Waa1yJuqz"
      },
      "execution_count": 5,
      "outputs": []
    },
    {
      "cell_type": "code",
      "source": [
        "# @title Concrete Builders\n",
        "class ShortChordBuilder(AbstractBuilder):\n",
        "    # Implement specific methods\n",
        "\n",
        "class LongChordBuilder(AbstractBuilder):\n",
        "    # Implement specific methods\n",
        "\n",
        "class ShortScaleBuilder(AbstractBuilder):\n",
        "    # Implement specific methods\n",
        "\n",
        "class LongScaleBuilder(AbstractBuilder):\n",
        "    # Implement specific methods\n"
      ],
      "metadata": {
        "cellView": "form",
        "colab": {
          "base_uri": "https://localhost:8080/",
          "height": 142
        },
        "id": "kvsfnmRdJyjU",
        "outputId": "78f9099a-e9dd-47f6-e3d1-15fa97753e07"
      },
      "execution_count": 6,
      "outputs": [
        {
          "output_type": "error",
          "ename": "IndentationError",
          "evalue": "expected an indented block after class definition on line 1 (<ipython-input-6-280338935432>, line 4)",
          "traceback": [
            "\u001b[0;36m  File \u001b[0;32m\"<ipython-input-6-280338935432>\"\u001b[0;36m, line \u001b[0;32m4\u001b[0m\n\u001b[0;31m    class LongChordBuilder(AbstractBuilder):\u001b[0m\n\u001b[0m    ^\u001b[0m\n\u001b[0;31mIndentationError\u001b[0m\u001b[0;31m:\u001b[0m expected an indented block after class definition on line 1\n"
          ]
        }
      ]
    },
    {
      "cell_type": "code",
      "source": [
        "# @title Director\n",
        "class Director:\n",
        "    def __init__(self, builder):\n",
        "        self._builder = builder\n",
        "\n",
        "    def build_chord(self, chord):\n",
        "        self._builder.draw_image()\n",
        "        self._builder.draw_frets()\n",
        "        self._builder.draw_strings()\n",
        "        self._builder.write_starting_fret()\n",
        "        self._builder.write_name(chord.root + \" \" + chord.chord_type)\n",
        "        self._builder.draw_notes(\"chord\")\n",
        "\n",
        "    def build_scale(self, scale):\n",
        "        self._builder.draw_image()\n",
        "        self._builder.draw_frets()\n",
        "        self._builder.draw_strings()\n",
        "        self._builder.write_starting_fret()\n",
        "        self._builder.write_name(scale.name)\n",
        "        self._builder.draw_notes(\"scale\")\n"
      ],
      "metadata": {
        "cellView": "form",
        "id": "rXVmS8gTJ01V"
      },
      "execution_count": 7,
      "outputs": []
    },
    {
      "cell_type": "code",
      "source": [
        "# @title Execution\n",
        "# Example usage\n",
        "chord = GuitarChord('E', 'm', transposable_figures, finger_ascending=[0, 0, 0, 2, 2, 0], starting_fret=1)\n",
        "\n",
        "# Creating a concrete builder\n",
        "builder = ShortChordBuilder()\n",
        "\n",
        "# Creating a director with the builder\n",
        "director = Director(builder)\n",
        "\n",
        "# Building the chord\n",
        "director.build_chord(chord)\n",
        "\n",
        "# Retrieving the result\n",
        "result = builder.get_result()\n"
      ],
      "metadata": {
        "colab": {
          "base_uri": "https://localhost:8080/",
          "height": 246
        },
        "cellView": "form",
        "id": "TCvhWtBLJ11y",
        "outputId": "437b47fc-cbda-4d98-bd81-0f9a55001a13"
      },
      "execution_count": 8,
      "outputs": [
        {
          "output_type": "error",
          "ename": "NameError",
          "evalue": "name 'ShortChordBuilder' is not defined",
          "traceback": [
            "\u001b[0;31m---------------------------------------------------------------------------\u001b[0m",
            "\u001b[0;31mNameError\u001b[0m                                 Traceback (most recent call last)",
            "\u001b[0;32m<ipython-input-8-4a4d4b261300>\u001b[0m in \u001b[0;36m<cell line: 5>\u001b[0;34m()\u001b[0m\n\u001b[1;32m      3\u001b[0m \u001b[0;34m\u001b[0m\u001b[0m\n\u001b[1;32m      4\u001b[0m \u001b[0;31m# Creating a concrete builder\u001b[0m\u001b[0;34m\u001b[0m\u001b[0;34m\u001b[0m\u001b[0m\n\u001b[0;32m----> 5\u001b[0;31m \u001b[0mbuilder\u001b[0m \u001b[0;34m=\u001b[0m \u001b[0mShortChordBuilder\u001b[0m\u001b[0;34m(\u001b[0m\u001b[0;34m)\u001b[0m\u001b[0;34m\u001b[0m\u001b[0;34m\u001b[0m\u001b[0m\n\u001b[0m\u001b[1;32m      6\u001b[0m \u001b[0;34m\u001b[0m\u001b[0m\n\u001b[1;32m      7\u001b[0m \u001b[0;31m# Creating a director with the builder\u001b[0m\u001b[0;34m\u001b[0m\u001b[0;34m\u001b[0m\u001b[0m\n",
            "\u001b[0;31mNameError\u001b[0m: name 'ShortChordBuilder' is not defined"
          ]
        }
      ]
    }
  ]
}