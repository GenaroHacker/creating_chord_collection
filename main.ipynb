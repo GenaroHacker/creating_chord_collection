{
  "nbformat": 4,
  "nbformat_minor": 0,
  "metadata": {
    "colab": {
      "provenance": [],
      "authorship_tag": "ABX9TyNL3sNqEiJIWXUljxpmawBC",
      "include_colab_link": true
    },
    "kernelspec": {
      "name": "python3",
      "display_name": "Python 3"
    },
    "language_info": {
      "name": "python"
    }
  },
  "cells": [
    {
      "cell_type": "markdown",
      "metadata": {
        "id": "view-in-github",
        "colab_type": "text"
      },
      "source": [
        "<a href=\"https://colab.research.google.com/github/GenaroHacker/creating_chord_collection/blob/main/main.ipynb\" target=\"_parent\"><img src=\"https://colab.research.google.com/assets/colab-badge.svg\" alt=\"Open In Colab\"/></a>"
      ]
    },
    {
      "cell_type": "code",
      "source": [
        "# @title Set Up\n",
        "%%capture\n",
        "!git clone https://github.com/GenaroHacker/creating_chord_collection.git\n",
        "from creating_chord_collection.transposable_figures import transposable_figures"
      ],
      "metadata": {
        "cellView": "form",
        "id": "NPOu6D87n4rj"
      },
      "execution_count": 1,
      "outputs": []
    },
    {
      "cell_type": "code",
      "execution_count": 13,
      "metadata": {
        "colab": {
          "base_uri": "https://localhost:8080/"
        },
        "id": "W7O7u4sZN4zg",
        "outputId": "ed3274e9-17b8-4949-9b5d-5e2df72d1651",
        "cellView": "form"
      },
      "outputs": [
        {
          "output_type": "stream",
          "name": "stdout",
          "text": [
            "('E', 'm', finger_ascending=[0, 0, 0, 2, 2, 0], starting_fret=1)\n",
            "String Notes with Octaves: {1: ('E', 4), 2: ('B', 3), 3: ('G', 3), 4: ('E', 3), 5: ('B', 2), 6: ('E', 2)}\n",
            "Is Open Chord: True\n",
            "Absolute Notes: ['E', 'G', 'B']\n",
            "('F', 'm', finger_ascending=[1, 1, 1, 3, 3, 1], starting_fret=1)\n"
          ]
        }
      ],
      "source": [
        "# @title Chord\n",
        "class GuitarChord:\n",
        "    all_notes = [\"C\", \"C#\", \"D\", \"D#\", \"E\", \"F\", \"F#\", \"G\", \"G#\", \"A\", \"A#\", \"B\"]\n",
        "    open_string_notes = [\"E\", \"B\", \"G\", \"D\", \"A\", \"E\"]\n",
        "\n",
        "    def __init__(self, root, chord_type, transposable_figures, *, starting_fret=0, finger_ascending):\n",
        "        self.root = root\n",
        "        self.chord_type = chord_type\n",
        "        self.starting_fret = starting_fret\n",
        "        self.finger_ascending = finger_ascending\n",
        "        self.transposable_figures = transposable_figures\n",
        "\n",
        "    def __str__(self):\n",
        "        return f\"({repr(self.root)}, {repr(self.chord_type)}, finger_ascending={self.finger_ascending}, starting_fret={self.starting_fret})\"\n",
        "\n",
        "    def get_notes(self, include_octaves=False):\n",
        "        string_notes = []\n",
        "        notes_with_octaves = {}\n",
        "        base_octaves = [4, 3, 3, 3, 2, 2]\n",
        "\n",
        "        for string_number, (open_note, finger_position) in enumerate(zip(GuitarChord.open_string_notes, self.finger_ascending), start=1):\n",
        "            if finger_position is None:\n",
        "                note = None\n",
        "                octave = None\n",
        "            else:\n",
        "                # Calculate the note\n",
        "                note_index = (GuitarChord.all_notes.index(open_note) + finger_position) % len(GuitarChord.all_notes)\n",
        "                note = GuitarChord.all_notes[note_index]\n",
        "\n",
        "                # Calculate the octave\n",
        "                base_octave = base_octaves[string_number - 1]\n",
        "                octave = base_octave + (finger_position // 12)\n",
        "\n",
        "                # Increment the octave if we cross a B to C transition\n",
        "                if \"B\" in GuitarChord.all_notes[GuitarChord.all_notes.index(open_note):] and note == \"C\":\n",
        "                    octave += 1\n",
        "\n",
        "            string_notes.append(note)\n",
        "            notes_with_octaves[string_number] = (note, octave)\n",
        "\n",
        "        return notes_with_octaves if include_octaves else string_notes\n",
        "\n",
        "    def is_open(self):\n",
        "        return 0 in self.finger_ascending\n",
        "\n",
        "    def get_absolute_notes(self):\n",
        "        string_notes = self.get_notes()\n",
        "        filtered_notes = filter(None, string_notes)\n",
        "        unique_notes = list(dict.fromkeys(filtered_notes))\n",
        "\n",
        "        # Create a list starting from the root note\n",
        "        root_index = GuitarChord.all_notes.index(self.root)\n",
        "        sorted_notes_order = GuitarChord.all_notes[root_index:] + GuitarChord.all_notes[:root_index]\n",
        "\n",
        "        # Sort the notes as per their order in sorted_notes_order\n",
        "        sorted_notes = sorted(unique_notes, key=lambda x: sorted_notes_order.index(x))\n",
        "        return sorted_notes\n",
        "\n",
        "\n",
        "    def transpose(self, distance):\n",
        "        # Helper function to transpose figure\n",
        "        def transpose_figure(lst, num):\n",
        "            return [item + num if item is not None else None for item in lst]\n",
        "\n",
        "        # Helper function to raise specific errors after reverting changes\n",
        "        def raise_transpose_error(error_type):\n",
        "            self.root = original_root\n",
        "            self.finger_ascending = original_finger_ascending\n",
        "            self.starting_fret = original_starting_fret\n",
        "\n",
        "            error_messages = {\n",
        "                \"below_0\": \"Chord transposition results in a note below the 0th fret.\",\n",
        "                \"above_12\": \"Chord transposition results in a note above the 12th fret.\",\n",
        "                \"not_equivalent_transposable_figure\": \"Chord figure is not equivalent to any figure in transposable_figures.\"\n",
        "            }\n",
        "            raise ValueError(error_messages[error_type])\n",
        "\n",
        "        # Save original state for possible reversion\n",
        "        original_root = self.root\n",
        "        original_finger_ascending = self.finger_ascending.copy()\n",
        "        original_starting_fret = self.starting_fret\n",
        "\n",
        "        # Return if distance is zero\n",
        "        if distance == 0:\n",
        "            return\n",
        "\n",
        "        # Update root note\n",
        "        new_note_index = (GuitarChord.all_notes.index(self.root) + distance) % len(GuitarChord.all_notes)\n",
        "        self.root = GuitarChord.all_notes[new_note_index]\n",
        "\n",
        "        # Transpose open chords\n",
        "        if self.is_open():\n",
        "            if distance < 0:\n",
        "                raise_transpose_error(\"below_0\")\n",
        "            elif distance > 0:\n",
        "                self.finger_ascending = transpose_figure(self.finger_ascending, 1)\n",
        "                self.starting_fret = max(0, self.starting_fret + distance - 1)\n",
        "        else:  # Transpose barre chords\n",
        "            if distance < 0:\n",
        "                new_starting_fret = self.starting_fret + distance\n",
        "                if new_starting_fret < 0:\n",
        "                    raise_transpose_error(\"below_0\")\n",
        "                elif new_starting_fret == 0:\n",
        "                    self.finger_ascending = transpose_figure(self.finger_ascending, -1)\n",
        "                    self.starting_fret = 1  # Keeping the fret at 1\n",
        "                else:\n",
        "                    self.starting_fret = new_starting_fret\n",
        "            else:  # Transpose barre chord to the right\n",
        "                self.starting_fret += distance\n",
        "\n",
        "        # Check for errors in transposition\n",
        "        if any(fret < 0 for fret in self.finger_ascending if fret is not None):\n",
        "            raise_transpose_error(\"below_0\")\n",
        "        if self.starting_fret > 9:\n",
        "            raise_transpose_error(\"above_12\")\n",
        "\n",
        "        # Check transposability\n",
        "        transposed_figure = self.finger_ascending if self.starting_fret == 0 else transpose_figure(self.finger_ascending, 1)\n",
        "        if transposed_figure not in self.transposable_figures:\n",
        "            raise_transpose_error(\"not_equivalent_transposable_figure\")\n",
        "\n",
        "\n",
        "\n",
        "# Example\n",
        "chord = GuitarChord('E', 'm', transposable_figures, finger_ascending=[0, 0, 0, 2, 2, 0], starting_fret=1)\n",
        "print(chord)\n",
        "print(\"String Notes with Octaves:\", chord.get_notes(include_octaves=True))\n",
        "print(\"Is Open Chord:\", chord.is_open())\n",
        "print(\"Absolute Notes:\", chord.get_absolute_notes())\n",
        "chord.transpose(1)\n",
        "print(chord)"
      ]
    },
    {
      "cell_type": "code",
      "source": [
        "# @title Collection\n",
        "import sqlite3\n",
        "from collections import defaultdict\n",
        "\n",
        "class ChordCollection:\n",
        "    def __init__(self):\n",
        "        self.chords = defaultdict(list)\n",
        "\n",
        "    def load(self, db_path):\n",
        "        self.chords.clear()\n",
        "        connection = sqlite3.connect(db_path)\n",
        "        cursor = connection.cursor()\n",
        "\n",
        "        cursor.execute('SELECT ROOT, TYPE, STARTING_FRET, STRING_1, STRING_2, STRING_3, STRING_4, STRING_5, STRING_6 FROM TABLE_CHORDS')\n",
        "        rows = cursor.fetchall()\n",
        "\n",
        "        for row in rows:\n",
        "            root, chord_type, starting_fret, *fingers = row\n",
        "            chord = GuitarChord(root, chord_type, transposable_figures, finger_ascending=fingers, starting_fret=starting_fret)\n",
        "            self.chords[root].append(chord)\n",
        "\n",
        "        connection.close()\n",
        "\n",
        "# Example usage\n",
        "chord_collection = ChordCollection()\n",
        "chord_collection.load('/content/creating_chord_collection/chord_collection.db')\n",
        "chord = chord_collection.chords[\"G\"][0]\n",
        "print(chord)\n",
        "\n"
      ],
      "metadata": {
        "colab": {
          "base_uri": "https://localhost:8080/"
        },
        "id": "u7geZFZHVCDE",
        "outputId": "eef29110-bc93-4f9f-ade9-9d8e969c5bd5",
        "cellView": "form"
      },
      "execution_count": 14,
      "outputs": [
        {
          "output_type": "stream",
          "name": "stdout",
          "text": [
            "('G', '', finger_ascending=[3, 0, 0, 0, 2, 3], starting_fret=None)\n"
          ]
        }
      ]
    }
  ]
}