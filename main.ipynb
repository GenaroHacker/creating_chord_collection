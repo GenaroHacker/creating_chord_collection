{
  "nbformat": 4,
  "nbformat_minor": 0,
  "metadata": {
    "colab": {
      "provenance": [],
      "authorship_tag": "ABX9TyPlXZSC21PTM44MkuJXxrit",
      "include_colab_link": true
    },
    "kernelspec": {
      "name": "python3",
      "display_name": "Python 3"
    },
    "language_info": {
      "name": "python"
    }
  },
  "cells": [
    {
      "cell_type": "markdown",
      "metadata": {
        "id": "view-in-github",
        "colab_type": "text"
      },
      "source": [
        "<a href=\"https://colab.research.google.com/github/GenaroHacker/creating_chord_collection/blob/main/main.ipynb\" target=\"_parent\"><img src=\"https://colab.research.google.com/assets/colab-badge.svg\" alt=\"Open In Colab\"/></a>"
      ]
    },
    {
      "cell_type": "code",
      "source": [
        "%%capture\n",
        "#@title Set Up\n",
        "!git clone https://github.com/GenaroHacker/write_imports.git\n",
        "from write_imports.write_imports import write_imports\n",
        "\n",
        "!git clone https://github.com/GenaroHacker/creating_chord_collection.git\n",
        "\n",
        "\n",
        "from creating_chord_collection.collection.resources.scales import scales\n",
        "from creating_chord_collection.collection.resources.transposable_figures import transposable_figures\n",
        "\n"
      ],
      "metadata": {
        "cellView": "form",
        "id": "94Ibuwzoov1A"
      },
      "execution_count": 8,
      "outputs": []
    },
    {
      "cell_type": "code",
      "source": [
        "\n",
        "\n",
        "\n",
        "# Delete this line to see the new imports\n",
        "%%capture\n",
        "\n",
        "\n",
        "\n",
        "#@title Import Statements\n",
        "#Modules: ['write_imports', 'creating_chord_collection']\n",
        "\n",
        "\n",
        "\n",
        "from write_imports.write_imports import write_imports\n",
        "\n",
        "from write_imports.LearningPython.BasicExamples.intro_functions import print_hello_world\n",
        "\n",
        "\n",
        "from creating_chord_collection.collection.chord import GuitarChord\n",
        "\n",
        "from creating_chord_collection.collection.collection import ChordCollection\n",
        "\n",
        "\n",
        "\n",
        "\n",
        "\n",
        "\n",
        "\n",
        "print(write_imports([]))\n",
        "\n",
        "\n",
        "\n",
        "\n"
      ],
      "metadata": {
        "cellView": "form",
        "id": "7ZQWsxX8o3Rk"
      },
      "execution_count": 9,
      "outputs": []
    },
    {
      "cell_type": "code",
      "execution_count": 10,
      "metadata": {
        "colab": {
          "base_uri": "https://localhost:8080/"
        },
        "id": "W7O7u4sZN4zg",
        "outputId": "2de4e558-ed21-4e6e-846e-76244ebf4b07",
        "cellView": "form"
      },
      "outputs": [
        {
          "output_type": "stream",
          "name": "stdout",
          "text": [
            "('E', 'm', finger_ascending=[0, 0, 0, 2, 2, 0], starting_fret=1)\n",
            "String Frequencies: {1: 329.63, 2: 246.94, 3: 196.0, 4: 164.81110255326524, 5: 123.47082531403103, 6: 82.41}\n",
            "Is Open Chord: True\n",
            "{1: 'E', 2: 'B', 3: 'G', 4: 'E', 5: 'B', 6: 'E'}\n",
            "['E', 'B', 'G']\n",
            "Chord fits in C major scale: True\n"
          ]
        }
      ],
      "source": [
        "# @title Chord\n",
        "\n",
        "\n",
        "# Example\n",
        "chord = GuitarChord('E', 'm', transposable_figures, finger_ascending=[0, 0, 0, 2, 2, 0], starting_fret=1)\n",
        "print(chord)\n",
        "print(\"String Frequencies:\", chord.calculate_frequencies())\n",
        "print(\"Is Open Chord:\", chord.is_open())\n",
        "chord.transpose(0)\n",
        "print(chord.get_notes(include_strings=True))\n",
        "print(chord.get_notes())\n",
        "\n",
        "# Validate the chord against the C major scale\n",
        "ionian_scale = scales[\"ionian\"]\n",
        "tonic = \"C\"\n",
        "is_chord_in_scale = chord.validate_against_scale(tonic, ionian_scale)\n",
        "print(f\"Chord fits in C major scale: {is_chord_in_scale}\")\n"
      ]
    },
    {
      "cell_type": "code",
      "source": [
        "# @title Abstract Builders\n",
        "class AbstractBuilder:\n",
        "    def __init__(self):\n",
        "        self.image_size = (1, 1)\n",
        "        self.frets_endpoints = {}\n",
        "        self.strings_endpoints = {}\n",
        "        self.notes_coordenates = None\n",
        "        self.name_coordenate = (1, 1)\n",
        "        self.font = \"arial\"\n",
        "        self.font_size = 12\n",
        "\n",
        "        self.root = None\n",
        "        self.starting_fret = None\n",
        "\n",
        "        self.chord_type = None\n",
        "        self.finger_ascending = None\n",
        "\n",
        "        self.scale_name = None\n",
        "        self.scale = None\n",
        "\n",
        "\n",
        "\n",
        "    def draw_boundaries(self):\n",
        "        # Create an image with a white background\n",
        "        self.image = Image.new('RGB', self.image_size, 'white')\n",
        "        self.draw = ImageDraw.Draw(self.image)\n",
        "\n",
        "    def draw_frets(self):\n",
        "        # Draw frets lines\n",
        "        for fret_start in self.frets_starting_points:\n",
        "            self.draw.line((self.fret_edges[0], fret_start, self.fret_edges[1], fret_start), fill='black')\n",
        "\n",
        "    def draw_strings(self):\n",
        "        # Draw strings lines\n",
        "        for string_start in self.strings_starting_points:\n",
        "            self.draw.line((string_start, self.string_edges[0], string_start, self.string_edges[1]), fill='black')\n",
        "\n",
        "    def write_starting_fret(self):\n",
        "        raise NotImplementedError\n",
        "\n",
        "    def write_name(self, name):\n",
        "        # Write the name on the image\n",
        "        try:\n",
        "            font = ImageFont.truetype(self.font, self.font_size)\n",
        "        except IOError:\n",
        "            font = ImageFont.load_default()\n",
        "        self.draw.text(self.name_coordenate, name, fill='black', font=font)\n",
        "\n",
        "    def draw_notes(self, notes_style):\n",
        "        raise NotImplementedError\n",
        "\n",
        "    def get_result(self):\n",
        "        return self.image\n",
        "\n",
        "class ShortAbstractBuilder(AbstractBuilder):\n",
        "    def __init__(self):\n",
        "        super().__init__()\n",
        "        self.image_size = (351, 351)\n",
        "\n",
        "        self.fret_edges = [78, 273]  # Horizontal start and end for all frets\n",
        "        self.frets_starting_points = [107, 157, 207, 257, 307]  # Vertical positions for each fret\n",
        "\n",
        "        self.string_edges = [107, 307]  # Vertical start and end for all strings\n",
        "        self.strings_starting_points = [78, 117, 156, 195, 234, 273]  # Horizontal positions for each string\n",
        "\n",
        "        self.notes_coordenates = {\n",
        "            \"strings\": [273, 234, 195, 156, 117, 78],  # s1 to s6\n",
        "            \"frets\": [82, 132, 182, 232, 282]  # f0 to f4\n",
        "        }\n",
        "\n",
        "        self.name_coordenate = (175, 40)\n",
        "\n",
        "\n",
        "\n",
        "\n",
        "class LongAbstractBuilder(AbstractBuilder):\n",
        "    def __init__(self):\n",
        "        super().__init__()\n",
        "        # Updated image size with additional height\n",
        "        self.image_size = (717, 362)\n",
        "\n",
        "        self.fret_edges = [82, 277]  # Vertical start and end for all frets in the long diagram\n",
        "        self.frets_starting_points = [67, 117, 167, 217, 267, 317, 367, 417, 467, 517, 567, 617, 667]  # Horizontal positions for each fret\n",
        "\n",
        "        self.string_edges = [67, 667]  # Horizontal start and end for all strings in the long diagram\n",
        "        self.strings_starting_points = [82, 121, 160, 199, 238, 277]  # Vertical positions for each string\n",
        "\n",
        "        # Updated y-coordinates in notes_coordenates for strings\n",
        "        self.notes_coordenates = {\n",
        "            \"strings\": [82, 121, 160, 199, 238, 277], # y-coordinates for strings\n",
        "            \"frets\": [42, 92, 142, 192, 242, 292, 342, 392, 442, 492, 542, 592, 642]  # x-coordinates for frets\n",
        "        }\n",
        "\n",
        "        self.name_coordenate = (358, 40)\n",
        "\n",
        "\n"
      ],
      "metadata": {
        "id": "vW5Waa1yJuqz"
      },
      "execution_count": 11,
      "outputs": []
    },
    {
      "cell_type": "code",
      "source": [
        "# @title Concrete Builders\n",
        "class ShortChordBuilder(ShortAbstractBuilder):\n",
        "    def __init__(self):\n",
        "        super().__init__()\n",
        "        self.is_scale = False\n",
        "        # Implement specific methods\n",
        "\n",
        "class ShortScaleBuilder(ShortAbstractBuilder):\n",
        "    def __init__(self):\n",
        "        super().__init__()\n",
        "        self.is_scale = True\n",
        "        # Implement specific methods\n",
        "\n",
        "class LongChordBuilder(LongAbstractBuilder):\n",
        "    def __init__(self):\n",
        "        super().__init__()\n",
        "        self.is_scale = False\n",
        "        # Implement specific methods\n",
        "\n",
        "class LongScaleBuilder(LongAbstractBuilder):\n",
        "    def __init__(self):\n",
        "        super().__init__()\n",
        "        self.is_scale = True\n",
        "        # Implement specific methods\n"
      ],
      "metadata": {
        "id": "kvsfnmRdJyjU"
      },
      "execution_count": 12,
      "outputs": []
    },
    {
      "cell_type": "code",
      "source": [
        "# @title Director\n",
        "class Director:\n",
        "    def __init__(self, builder):\n",
        "        self._builder = builder\n",
        "\n",
        "    def build_chord(self, chord):\n",
        "        self._builder.draw_boundaries()\n",
        "        self._builder.root = chord.root\n",
        "        self._builder.chord_type = chord.chord_type\n",
        "        self._builder.finger_ascending = chord.finger_ascending\n",
        "        self._builder.starting_fret = chord.starting_fret\n",
        "        self._builder.draw_boundaries()\n",
        "        self._builder.draw_frets()\n",
        "        self._builder.draw_strings()\n",
        "        chord_name = chord.root + chord.chord_type\n",
        "        self._builder.write_name(chord_name)\n",
        "\n",
        "    def build_scale(self, scale):\n",
        "        self._builder.draw_boundaries()\n",
        "        self._builder.root = scale.root\n",
        "        self._builder.scale_name = scale.name\n",
        "        self._builder.starting_fret = scale.starting_fret\n",
        "        self._builder.scale = scale\n"
      ],
      "metadata": {
        "cellView": "form",
        "id": "rXVmS8gTJ01V"
      },
      "execution_count": 13,
      "outputs": []
    },
    {
      "cell_type": "code",
      "source": [
        "# @title Execution\n",
        "from PIL import Image, ImageDraw, ImageFont\n",
        "from IPython.display import display\n",
        "\n",
        "# Example usage for a chord\n",
        "chord = GuitarChord('E', 'm', transposable_figures, finger_ascending=[0, 0, 0, 2, 2, 0], starting_fret=1)\n",
        "builder = LongChordBuilder()\n",
        "director = Director(builder)\n",
        "director.build_chord(chord)\n",
        "\n",
        "# Get the final image result\n",
        "result_image = builder.get_result()\n",
        "\n",
        "# Display the image in the Jupyter notebook\n",
        "display(result_image)\n"
      ],
      "metadata": {
        "colab": {
          "base_uri": "https://localhost:8080/",
          "height": 379
        },
        "id": "TCvhWtBLJ11y",
        "outputId": "888e08de-a66a-4804-df38-112068be37c7"
      },
      "execution_count": 15,
      "outputs": [
        {
          "output_type": "display_data",
          "data": {
            "text/plain": [
              "<PIL.Image.Image image mode=RGB size=717x362>"
            ],
            "image/png": "[encoded data removed]"
          },
          "metadata": {}
        }
      ]
    }
  ]
}