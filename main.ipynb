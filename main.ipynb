{
  "nbformat": 4,
  "nbformat_minor": 0,
  "metadata": {
    "colab": {
      "provenance": [],
      "authorship_tag": "ABX9TyNQ7t7YeXTDIBpX7UWvOsXm",
      "include_colab_link": true
    },
    "kernelspec": {
      "name": "python3",
      "display_name": "Python 3"
    },
    "language_info": {
      "name": "python"
    }
  },
  "cells": [
    {
      "cell_type": "markdown",
      "metadata": {
        "id": "view-in-github",
        "colab_type": "text"
      },
      "source": [
        "<a href=\"https://colab.research.google.com/github/GenaroHacker/creating_chord_collection/blob/main/main.ipynb\" target=\"_parent\"><img src=\"https://colab.research.google.com/assets/colab-badge.svg\" alt=\"Open In Colab\"/></a>"
      ]
    },
    {
      "cell_type": "code",
      "execution_count": 11,
      "metadata": {
        "colab": {
          "base_uri": "https://localhost:8080/"
        },
        "id": "W7O7u4sZN4zg",
        "outputId": "19e0124d-73ec-4bfa-a69a-0c1ed176e45c",
        "cellView": "form"
      },
      "outputs": [
        {
          "output_type": "stream",
          "name": "stdout",
          "text": [
            "Guitar Chord: F#+, Starting Fret: 0, Difficulty: 3, Finger Positions: [8, 1, 5, -2, None, None]\n",
            "String Notes: ['C', 'C', 'C', 'C', None, None]\n"
          ]
        }
      ],
      "source": [
        "# @title Chord\n",
        "class GuitarChord:\n",
        "    def __init__(self, root, chord_type, starting_fret, difficulty, finger_ascending):\n",
        "        self.root = root\n",
        "        self.chord_type = chord_type\n",
        "        self.starting_fret = starting_fret\n",
        "        self.difficulty = difficulty\n",
        "        self.finger_ascending = finger_ascending\n",
        "\n",
        "    def __str__(self):\n",
        "        return f\"Guitar Chord: {self.root}{self.chord_type}, Starting Fret: {self.starting_fret}, Difficulty: {self.difficulty}, Finger Positions: {self.finger_ascending}\"\n",
        "\n",
        "    def get_string_notes(self):\n",
        "        open_string_notes = [\"E\", \"B\", \"G\", \"D\", \"A\", \"E\"]\n",
        "        all_notes = [\"A\", \"A#\", \"B\", \"C\", \"C#\", \"D\", \"D#\", \"E\", \"F\", \"F#\", \"G\", \"G#\"]\n",
        "\n",
        "        # Default to 0 if starting_fret is None\n",
        "        starting_fret = self.starting_fret if self.starting_fret is not None else 0\n",
        "\n",
        "        string_notes = []\n",
        "\n",
        "        for string, finger_position in zip(open_string_notes, self.finger_ascending):\n",
        "            if finger_position is not None:\n",
        "                # Calculate the note index, taking into account the starting fret\n",
        "                note_index = (all_notes.index(string) + finger_position + starting_fret) % len(all_notes)\n",
        "                string_notes.append(all_notes[note_index])\n",
        "            else:\n",
        "                # Append None for strings not played\n",
        "                string_notes.append(None)\n",
        "\n",
        "        return string_notes\n",
        "\n",
        "\n",
        "# Example usage\n",
        "chord = GuitarChord('F#', '+', 0, 3, [8, 1, 5, -2, None, None])\n",
        "print(chord)\n",
        "print(\"String Notes:\", chord.get_string_notes())\n"
      ]
    },
    {
      "cell_type": "code",
      "source": [
        "# @title Collection\n",
        "import sqlite3\n",
        "from collections import defaultdict\n",
        "\n",
        "class ChordCollection:\n",
        "    def __init__(self):\n",
        "        self.chords = defaultdict(list)\n",
        "\n",
        "    def load(self, db_path):\n",
        "        self.chords.clear()\n",
        "        connection = sqlite3.connect(db_path)\n",
        "        cursor = connection.cursor()\n",
        "\n",
        "        cursor.execute('SELECT ROOT, TYPE, DIFFICULTY, STARTING_FRET, STRING_1, STRING_2, STRING_3, STRING_4, STRING_5, STRING_6 FROM TABLE_CHORDS')\n",
        "        rows = cursor.fetchall()\n",
        "\n",
        "        for row in rows:\n",
        "            root, chord_type, difficulty, starting_fret, *fingers = row\n",
        "            chord = GuitarChord(root, chord_type, starting_fret, difficulty, fingers)\n",
        "            self.chords[root].append(chord)\n",
        "\n",
        "        connection.close()\n",
        "\n",
        "# Example usage\n",
        "chord_collection = ChordCollection()\n",
        "chord_collection.load('/content/chord_collection.db')\n",
        "print(chord_collection.chords[\"G\"][0].get_string_notes())\n"
      ],
      "metadata": {
        "colab": {
          "base_uri": "https://localhost:8080/"
        },
        "id": "u7geZFZHVCDE",
        "outputId": "2a78a61f-3634-42e4-88c6-e580870298b8",
        "cellView": "form"
      },
      "execution_count": 12,
      "outputs": [
        {
          "output_type": "stream",
          "name": "stdout",
          "text": [
            "['G', 'B', 'G', 'D', 'B', 'G']\n"
          ]
        }
      ]
    }
  ]
}