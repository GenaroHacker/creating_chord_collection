{
  "nbformat": 4,
  "nbformat_minor": 0,
  "metadata": {
    "colab": {
      "provenance": [],
      "authorship_tag": "ABX9TyPqgg/1JXZGT6SWxYe4ydUe",
      "include_colab_link": true
    },
    "kernelspec": {
      "name": "python3",
      "display_name": "Python 3"
    },
    "language_info": {
      "name": "python"
    }
  },
  "cells": [
    {
      "cell_type": "markdown",
      "metadata": {
        "id": "view-in-github",
        "colab_type": "text"
      },
      "source": [
        "<a href=\"https://colab.research.google.com/github/GenaroHacker/creating_chord_collection/blob/main/main.ipynb\" target=\"_parent\"><img src=\"https://colab.research.google.com/assets/colab-badge.svg\" alt=\"Open In Colab\"/></a>"
      ]
    },
    {
      "cell_type": "code",
      "source": [
        "# @title Set Up\n",
        "%%capture\n",
        "!git clone https://github.com/GenaroHacker/creating_chord_collection.git"
      ],
      "metadata": {
        "cellView": "form",
        "id": "NPOu6D87n4rj"
      },
      "execution_count": 1,
      "outputs": []
    },
    {
      "cell_type": "code",
      "execution_count": 8,
      "metadata": {
        "colab": {
          "base_uri": "https://localhost:8080/"
        },
        "id": "W7O7u4sZN4zg",
        "outputId": "4fbd2e52-76da-4125-b770-d3c61f6907e4",
        "cellView": "form"
      },
      "outputs": [
        {
          "output_type": "stream",
          "name": "stdout",
          "text": [
            "('E', 'm', finger_ascending=[0, 0, 0, 2, 2, 0], starting_fret=0, difficulty=1)\n",
            "String Notes: ['E', 'B', 'G', 'E', 'B', 'E']\n",
            "Is Open Chord: True\n",
            "Absolute Notes: ['E', 'G', 'B']\n"
          ]
        }
      ],
      "source": [
        "# @title Chord\n",
        "class GuitarChord:\n",
        "    all_notes = [\"C\", \"C#\", \"D\", \"D#\", \"E\", \"F\", \"F#\", \"G\", \"G#\", \"A\", \"A#\", \"B\"]\n",
        "    open_string_notes = [\"E\", \"B\", \"G\", \"D\", \"A\", \"E\"]\n",
        "\n",
        "    def __init__(self, root, chord_type, *, starting_fret=0, difficulty=1, finger_ascending):\n",
        "        self.root = root\n",
        "        self.chord_type = chord_type\n",
        "        self.starting_fret = starting_fret\n",
        "        self.difficulty = difficulty\n",
        "        self.finger_ascending = finger_ascending\n",
        "\n",
        "    def __str__(self):\n",
        "        return f\"({repr(self.root)}, {repr(self.chord_type)}, finger_ascending={self.finger_ascending}, starting_fret={self.starting_fret}, difficulty={self.difficulty})\"\n",
        "\n",
        "    def get_string_notes(self):\n",
        "        starting_fret = self.starting_fret if self.starting_fret is not None else 0\n",
        "\n",
        "        string_notes = []\n",
        "        for string, finger_position in zip(GuitarChord.open_string_notes, self.finger_ascending):\n",
        "            if finger_position is None:\n",
        "                # If finger position is None, the string is not played\n",
        "                string_notes.append(None)\n",
        "            else:\n",
        "                # Calculate the note index, considering the starting fret\n",
        "                note_index = (GuitarChord.all_notes.index(string) + finger_position + starting_fret) % len(GuitarChord.all_notes)\n",
        "                string_notes.append(GuitarChord.all_notes[note_index])\n",
        "\n",
        "        return string_notes\n",
        "\n",
        "    def is_open(self):\n",
        "        return 0 in self.finger_ascending\n",
        "\n",
        "    def get_absolute_notes(self):\n",
        "        string_notes = self.get_string_notes()\n",
        "        filtered_notes = filter(None, string_notes)  # Remove None values\n",
        "        unique_notes = list(dict.fromkeys(filtered_notes))  # Remove duplicates\n",
        "\n",
        "        # Sort the notes as per their order in all_notes\n",
        "        sorted_notes = sorted(unique_notes, key=lambda x: GuitarChord.all_notes.index(x))\n",
        "        return sorted_notes\n",
        "\n",
        "# Example usage with explicit keyword arguments\n",
        "chord = GuitarChord('E', 'm', finger_ascending=[0, 0, 0, 2, 2, 0], starting_fret=0, difficulty=1)\n",
        "print(chord)\n",
        "print(\"String Notes:\", chord.get_string_notes())\n",
        "print(\"Is Open Chord:\", chord.is_open())\n",
        "print(\"Absolute Notes:\", chord.get_absolute_notes())\n",
        "\n",
        "\n"
      ]
    },
    {
      "cell_type": "code",
      "source": [
        "# @title Collection\n",
        "import sqlite3\n",
        "from collections import defaultdict\n",
        "\n",
        "class ChordCollection:\n",
        "    def __init__(self):\n",
        "        self.chords = defaultdict(list)\n",
        "\n",
        "    def load(self, db_path):\n",
        "        self.chords.clear()\n",
        "        connection = sqlite3.connect(db_path)\n",
        "        cursor = connection.cursor()\n",
        "\n",
        "        cursor.execute('SELECT ROOT, TYPE, DIFFICULTY, STARTING_FRET, STRING_1, STRING_2, STRING_3, STRING_4, STRING_5, STRING_6 FROM TABLE_CHORDS')\n",
        "        rows = cursor.fetchall()\n",
        "\n",
        "        for row in rows:\n",
        "            root, chord_type, difficulty, starting_fret, *fingers = row\n",
        "            # Update the creation of GuitarChord object to match the new constructor\n",
        "            chord = GuitarChord(root, chord_type, finger_ascending=fingers, starting_fret=starting_fret, difficulty=difficulty)\n",
        "            self.chords[root].append(chord)\n",
        "\n",
        "        connection.close()\n",
        "\n",
        "# Example usage\n",
        "chord_collection = ChordCollection()\n",
        "chord_collection.load('/content/creating_chord_collection/chord_collection.db')\n",
        "chord = chord_collection.chords[\"E\"][6]\n",
        "print(chord)\n",
        "print(\"String Notes:\", chord.get_string_notes())\n",
        "print(\"Is Open Chord:\", chord.is_open())\n",
        "print(\"Absolute Notes:\", chord.get_absolute_notes())\n",
        "\n"
      ],
      "metadata": {
        "colab": {
          "base_uri": "https://localhost:8080/"
        },
        "id": "u7geZFZHVCDE",
        "outputId": "b6bc7023-55a4-4655-9335-2f6cf053dc18",
        "cellView": "form"
      },
      "execution_count": 10,
      "outputs": [
        {
          "output_type": "stream",
          "name": "stdout",
          "text": [
            "('E', 'm', finger_ascending=[0, 0, 0, 2, 2, 0], starting_fret=None, difficulty=3)\n",
            "String Notes: ['E', 'B', 'G', 'E', 'B', 'E']\n",
            "Is Open Chord: True\n",
            "Absolute Notes: ['E', 'G', 'B']\n"
          ]
        }
      ]
    }
  ]
}