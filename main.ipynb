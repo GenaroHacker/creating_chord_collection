{
  "nbformat": 4,
  "nbformat_minor": 0,
  "metadata": {
    "colab": {
      "provenance": [],
      "authorship_tag": "ABX9TyPM6IqU5h5JIJRrR1FGQEDt",
      "include_colab_link": true
    },
    "kernelspec": {
      "name": "python3",
      "display_name": "Python 3"
    },
    "language_info": {
      "name": "python"
    }
  },
  "cells": [
    {
      "cell_type": "markdown",
      "metadata": {
        "id": "view-in-github",
        "colab_type": "text"
      },
      "source": [
        "<a href=\"https://colab.research.google.com/github/GenaroHacker/creating_chord_collection/blob/main/main.ipynb\" target=\"_parent\"><img src=\"https://colab.research.google.com/assets/colab-badge.svg\" alt=\"Open In Colab\"/></a>"
      ]
    },
    {
      "cell_type": "code",
      "source": [
        "# @title Set Up\n",
        "%%capture\n",
        "!git clone https://github.com/GenaroHacker/creating_chord_collection.git"
      ],
      "metadata": {
        "cellView": "form",
        "id": "NPOu6D87n4rj"
      },
      "execution_count": 11,
      "outputs": []
    },
    {
      "cell_type": "code",
      "execution_count": 50,
      "metadata": {
        "colab": {
          "base_uri": "https://localhost:8080/"
        },
        "id": "W7O7u4sZN4zg",
        "outputId": "687b5cc2-b2c1-492d-95cd-f410a826938f",
        "cellView": "form"
      },
      "outputs": [
        {
          "output_type": "stream",
          "name": "stdout",
          "text": [
            "String Notes with Octaves: {1: ('E', 4), 2: ('B', 3), 3: ('G', 3), 4: ('E', 3), 5: ('B', 2), 6: ('E', 2)}\n",
            "Is Open Chord: True\n",
            "Absolute Notes: ['E', 'G', 'B']\n"
          ]
        }
      ],
      "source": [
        "# @title Chord\n",
        "class GuitarChord:\n",
        "    all_notes = [\"C\", \"C#\", \"D\", \"D#\", \"E\", \"F\", \"F#\", \"G\", \"G#\", \"A\", \"A#\", \"B\"]\n",
        "    open_string_notes = [\"E\", \"B\", \"G\", \"D\", \"A\", \"E\"]\n",
        "\n",
        "    def __init__(self, root, chord_type, *, starting_fret=0, difficulty=1, finger_ascending):\n",
        "        self.root = root\n",
        "        self.chord_type = chord_type\n",
        "        self.starting_fret = starting_fret\n",
        "        self.difficulty = difficulty\n",
        "        self.finger_ascending = finger_ascending\n",
        "\n",
        "    def __str__(self):\n",
        "        return f\"({repr(self.root)}, {repr(self.chord_type)}, finger_ascending={self.finger_ascending}, starting_fret={self.starting_fret}, difficulty={self.difficulty})\"\n",
        "\n",
        "    def get_notes(self, include_octaves=False):\n",
        "        string_notes = []\n",
        "        notes_with_octaves = {}\n",
        "        base_octaves = [4, 3, 3, 3, 2, 2]  # Base octaves for standard tuning\n",
        "\n",
        "        for string_number, (open_note, finger_position) in enumerate(zip(GuitarChord.open_string_notes, self.finger_ascending), start=1):\n",
        "            if finger_position is None:\n",
        "                note = None\n",
        "                octave = None\n",
        "            else:\n",
        "                # Calculate the note\n",
        "                note_index = (GuitarChord.all_notes.index(open_note) + finger_position) % len(GuitarChord.all_notes)\n",
        "                note = GuitarChord.all_notes[note_index]\n",
        "\n",
        "                # Calculate the octave\n",
        "                base_octave = base_octaves[string_number - 1]\n",
        "                octave = base_octave + (finger_position // 12)\n",
        "\n",
        "                # Increment the octave if we cross a B to C transition\n",
        "                if \"B\" in GuitarChord.all_notes[GuitarChord.all_notes.index(open_note):] and note == \"C\":\n",
        "                    octave += 1\n",
        "\n",
        "            string_notes.append(note)\n",
        "            notes_with_octaves[string_number] = (note, octave)\n",
        "\n",
        "        return notes_with_octaves if include_octaves else string_notes\n",
        "\n",
        "\n",
        "\n",
        "    def is_open(self):\n",
        "        return 0 in self.finger_ascending\n",
        "\n",
        "    def get_absolute_notes(self):\n",
        "        string_notes = self.get_notes()\n",
        "        filtered_notes = filter(None, string_notes)  # Remove None values\n",
        "        unique_notes = list(dict.fromkeys(filtered_notes))  # Remove duplicates\n",
        "\n",
        "        # Sort the notes as per their order in all_notes\n",
        "        sorted_notes = sorted(unique_notes, key=lambda x: GuitarChord.all_notes.index(x))\n",
        "        return sorted_notes\n",
        "\n",
        "\n",
        "\n",
        "\n",
        "# Example usage with explicit keyword arguments\n",
        "chord = GuitarChord('E', 'm', finger_ascending=[0, 0, 0, 2, 2, 0], starting_fret=0, difficulty=1)\n",
        "#print(chord)\n",
        "print(\"String Notes with Octaves:\", chord.get_notes(include_octaves=True))\n",
        "print(\"Is Open Chord:\", chord.is_open())\n",
        "print(\"Absolute Notes:\", chord.get_absolute_notes())\n",
        "\n"
      ]
    },
    {
      "cell_type": "code",
      "source": [
        "# @title Collection\n",
        "import sqlite3\n",
        "from collections import defaultdict\n",
        "\n",
        "class ChordCollection:\n",
        "    def __init__(self):\n",
        "        self.chords = defaultdict(list)\n",
        "\n",
        "    def load(self, db_path):\n",
        "        self.chords.clear()\n",
        "        connection = sqlite3.connect(db_path)\n",
        "        cursor = connection.cursor()\n",
        "\n",
        "        cursor.execute('SELECT ROOT, TYPE, DIFFICULTY, STARTING_FRET, STRING_1, STRING_2, STRING_3, STRING_4, STRING_5, STRING_6 FROM TABLE_CHORDS')\n",
        "        rows = cursor.fetchall()\n",
        "\n",
        "        for row in rows:\n",
        "            root, chord_type, difficulty, starting_fret, *fingers = row\n",
        "            # Update the creation of GuitarChord object to match the new constructor\n",
        "            chord = GuitarChord(root, chord_type, finger_ascending=fingers, starting_fret=starting_fret, difficulty=difficulty)\n",
        "            self.chords[root].append(chord)\n",
        "\n",
        "        connection.close()\n",
        "\n",
        "# Example usage\n",
        "chord_collection = ChordCollection()\n",
        "chord_collection.load('/content/creating_chord_collection/chord_collection.db')\n",
        "chord = chord_collection.chords[\"E\"][6]\n",
        "print(chord)\n",
        "print(\"String Notes with Octaves:\", chord.get_notes(include_octaves=True))\n",
        "print(\"Is Open Chord:\", chord.is_open())\n",
        "print(\"Absolute Notes:\", chord.get_absolute_notes())\n",
        "\n"
      ],
      "metadata": {
        "colab": {
          "base_uri": "https://localhost:8080/"
        },
        "id": "u7geZFZHVCDE",
        "outputId": "697b0342-74be-484e-c0b9-a1ef27e2cf7d",
        "cellView": "form"
      },
      "execution_count": 36,
      "outputs": [
        {
          "output_type": "stream",
          "name": "stdout",
          "text": [
            "('E', 'm', finger_ascending=[0, 0, 0, 2, 2, 0], starting_fret=None, difficulty=3)\n",
            "String Notes with Octaves: {1: ('E', 4), 2: ('B', 3), 3: ('G', 3), 4: ('E', 3), 5: ('B', 2), 6: ('E', 2)}\n",
            "Is Open Chord: True\n",
            "Absolute Notes: ['E', 'G', 'B']\n"
          ]
        }
      ]
    }
  ]
}