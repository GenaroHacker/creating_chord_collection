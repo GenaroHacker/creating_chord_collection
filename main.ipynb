{
  "nbformat": 4,
  "nbformat_minor": 0,
  "metadata": {
    "colab": {
      "provenance": [],
      "authorship_tag": "ABX9TyMPDqlsCnVGc1D3Qf8DFQ+q",
      "include_colab_link": true
    },
    "kernelspec": {
      "name": "python3",
      "display_name": "Python 3"
    },
    "language_info": {
      "name": "python"
    }
  },
  "cells": [
    {
      "cell_type": "markdown",
      "metadata": {
        "id": "view-in-github",
        "colab_type": "text"
      },
      "source": [
        "<a href=\"https://colab.research.google.com/github/GenaroHacker/creating_chord_collection/blob/main/main.ipynb\" target=\"_parent\"><img src=\"https://colab.research.google.com/assets/colab-badge.svg\" alt=\"Open In Colab\"/></a>"
      ]
    },
    {
      "cell_type": "code",
      "source": [
        "# @title Set Up\n",
        "%%capture\n",
        "!git clone https://github.com/GenaroHacker/creating_chord_collection.git"
      ],
      "metadata": {
        "cellView": "form",
        "id": "NPOu6D87n4rj"
      },
      "execution_count": 1,
      "outputs": []
    },
    {
      "cell_type": "code",
      "execution_count": 2,
      "metadata": {
        "colab": {
          "base_uri": "https://localhost:8080/"
        },
        "id": "W7O7u4sZN4zg",
        "outputId": "43efac14-fd34-43fa-a2b4-3f97578745be",
        "cellView": "form"
      },
      "outputs": [
        {
          "output_type": "stream",
          "name": "stdout",
          "text": [
            "Guitar Chord: Em, Starting Fret: 0, Difficulty: 1, Finger Positions: [0, 0, 0, 2, 2, 0]\n",
            "String Notes: ['E', 'B', 'G', 'E', 'B', 'E']\n",
            "Is Open Chord: True\n",
            "Absolute Notes: ['E', 'G', 'B']\n"
          ]
        }
      ],
      "source": [
        "# @title Chord\n",
        "class GuitarChord:\n",
        "    all_notes = [\"C\", \"C#\", \"D\", \"D#\", \"E\", \"F\", \"F#\", \"G\", \"G#\", \"A\", \"A#\", \"B\"]\n",
        "    open_string_notes = [\"E\", \"B\", \"G\", \"D\", \"A\", \"E\"]\n",
        "\n",
        "    def __init__(self, root, chord_type, starting_fret, difficulty, finger_ascending):\n",
        "        self.root = root\n",
        "        self.chord_type = chord_type\n",
        "        self.starting_fret = starting_fret\n",
        "        self.difficulty = difficulty\n",
        "        self.finger_ascending = finger_ascending\n",
        "\n",
        "    def __str__(self):\n",
        "        return f\"Guitar Chord: {self.root}{self.chord_type}, Starting Fret: {self.starting_fret}, Difficulty: {self.difficulty}, Finger Positions: {self.finger_ascending}\"\n",
        "\n",
        "    def get_string_notes(self):\n",
        "        starting_fret = self.starting_fret if self.starting_fret is not None else 0\n",
        "\n",
        "        string_notes = []\n",
        "        for string, finger_position in zip(GuitarChord.open_string_notes, self.finger_ascending):\n",
        "            if finger_position is None:\n",
        "                # If finger position is None, the string is not played\n",
        "                string_notes.append(None)\n",
        "            else:\n",
        "                # Calculate the note index, considering the starting fret\n",
        "                note_index = (GuitarChord.all_notes.index(string) + finger_position + starting_fret) % len(GuitarChord.all_notes)\n",
        "                string_notes.append(GuitarChord.all_notes[note_index])\n",
        "\n",
        "        return string_notes\n",
        "\n",
        "    def is_open(self):\n",
        "        return 0 in self.finger_ascending\n",
        "\n",
        "    def get_absolute_notes(self):\n",
        "        string_notes = self.get_string_notes()\n",
        "        filtered_notes = filter(None, string_notes)  # Remove None values\n",
        "        unique_notes = list(dict.fromkeys(filtered_notes))  # Remove duplicates\n",
        "\n",
        "        # Sort the notes as per their order in all_notes\n",
        "        sorted_notes = sorted(unique_notes, key=lambda x: GuitarChord.all_notes.index(x))\n",
        "        return sorted_notes\n",
        "\n",
        "# Example usage\n",
        "chord = GuitarChord('E', 'm', 0, 1, [0, 0, 0, 2, 2, 0])\n",
        "print(chord)\n",
        "print(\"String Notes:\", chord.get_string_notes())\n",
        "print(\"Is Open Chord:\", chord.is_open())\n",
        "print(\"Absolute Notes:\", chord.get_absolute_notes())\n",
        "\n"
      ]
    },
    {
      "cell_type": "code",
      "source": [
        "# @title Collection\n",
        "import sqlite3\n",
        "from collections import defaultdict\n",
        "\n",
        "class ChordCollection:\n",
        "    def __init__(self):\n",
        "        self.chords = defaultdict(list)\n",
        "\n",
        "    def load(self, db_path):\n",
        "        self.chords.clear()\n",
        "        connection = sqlite3.connect(db_path)\n",
        "        cursor = connection.cursor()\n",
        "\n",
        "        cursor.execute('SELECT ROOT, TYPE, DIFFICULTY, STARTING_FRET, STRING_1, STRING_2, STRING_3, STRING_4, STRING_5, STRING_6 FROM TABLE_CHORDS')\n",
        "        rows = cursor.fetchall()\n",
        "\n",
        "        for row in rows:\n",
        "            root, chord_type, difficulty, starting_fret, *fingers = row\n",
        "            chord = GuitarChord(root, chord_type, starting_fret, difficulty, fingers)\n",
        "            self.chords[root].append(chord)\n",
        "\n",
        "        connection.close()\n",
        "\n",
        "# Example usage\n",
        "chord_collection = ChordCollection()\n",
        "chord_collection.load('/content/creating_chord_collection/chord_collection.db')\n",
        "chord = chord_collection.chords[\"E\"][6]\n",
        "print(chord)\n",
        "print(\"String Notes:\", chord.get_string_notes())\n",
        "print(\"Is Open Chord:\", chord.is_open())\n",
        "print(\"Absolute Notes:\", chord.get_absolute_notes())\n"
      ],
      "metadata": {
        "colab": {
          "base_uri": "https://localhost:8080/"
        },
        "id": "u7geZFZHVCDE",
        "outputId": "d307581f-9ea0-409b-a425-d5097c032e8e",
        "cellView": "form"
      },
      "execution_count": 3,
      "outputs": [
        {
          "output_type": "stream",
          "name": "stdout",
          "text": [
            "Guitar Chord: Em, Starting Fret: None, Difficulty: 3, Finger Positions: [0, 0, 0, 2, 2, 0]\n",
            "String Notes: ['E', 'B', 'G', 'E', 'B', 'E']\n",
            "Is Open Chord: True\n",
            "Absolute Notes: ['E', 'G', 'B']\n"
          ]
        }
      ]
    }
  ]
}