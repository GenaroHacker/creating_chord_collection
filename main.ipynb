{
  "nbformat": 4,
  "nbformat_minor": 0,
  "metadata": {
    "colab": {
      "provenance": [],
      "authorship_tag": "ABX9TyMA8dnPifYiOObSLMmGVjBZ",
      "include_colab_link": true
    },
    "kernelspec": {
      "name": "python3",
      "display_name": "Python 3"
    },
    "language_info": {
      "name": "python"
    }
  },
  "cells": [
    {
      "cell_type": "markdown",
      "metadata": {
        "id": "view-in-github",
        "colab_type": "text"
      },
      "source": [
        "<a href=\"https://colab.research.google.com/github/GenaroHacker/creating_chord_collection/blob/main/main.ipynb\" target=\"_parent\"><img src=\"https://colab.research.google.com/assets/colab-badge.svg\" alt=\"Open In Colab\"/></a>"
      ]
    },
    {
      "cell_type": "code",
      "source": [
        "%%capture\n",
        "#@title Set Up\n",
        "!git clone https://github.com/GenaroHacker/write_imports.git\n",
        "from write_imports.write_imports import write_imports\n",
        "\n",
        "!git clone https://github.com/GenaroHacker/creating_chord_collection.git\n",
        "\n",
        "\n",
        "from creating_chord_collection.collection.resources.scales import scales\n",
        "from creating_chord_collection.collection.resources.transposable_figures import transposable_figures\n",
        "\n"
      ],
      "metadata": {
        "cellView": "form",
        "id": "94Ibuwzoov1A"
      },
      "execution_count": 1,
      "outputs": []
    },
    {
      "cell_type": "code",
      "source": [
        "\n",
        "\n",
        "\n",
        "# Delete this line to see the new imports\n",
        "%%capture\n",
        "\n",
        "\n",
        "\n",
        "#@title Import Statements\n",
        "#Modules: ['write_imports', 'creating_chord_collection']\n",
        "\n",
        "\n",
        "\n",
        "from write_imports.write_imports import write_imports\n",
        "\n",
        "from write_imports.LearningPython.BasicExamples.intro_functions import print_hello_world\n",
        "\n",
        "\n",
        "from creating_chord_collection.collection.chord import GuitarChord\n",
        "\n",
        "from creating_chord_collection.collection.collection import ChordCollection\n",
        "\n",
        "\n",
        "\n",
        "\n",
        "\n",
        "\n",
        "\n",
        "print(write_imports([]))\n",
        "\n",
        "\n",
        "\n",
        "\n"
      ],
      "metadata": {
        "cellView": "form",
        "id": "7ZQWsxX8o3Rk"
      },
      "execution_count": 2,
      "outputs": []
    },
    {
      "cell_type": "code",
      "execution_count": 3,
      "metadata": {
        "colab": {
          "base_uri": "https://localhost:8080/"
        },
        "id": "W7O7u4sZN4zg",
        "outputId": "a33dbdab-c6b0-4132-a12f-6ca1e83aacee",
        "cellView": "form"
      },
      "outputs": [
        {
          "output_type": "stream",
          "name": "stdout",
          "text": [
            "('E', 'm', finger_ascending=[0, 0, 0, 2, 2, 0], starting_fret=1)\n",
            "String Frequencies: {1: 329.63, 2: 246.94, 3: 196.0, 4: 164.81110255326524, 5: 123.47082531403103, 6: 82.41}\n",
            "Is Open Chord: True\n",
            "{1: 'E', 2: 'B', 3: 'G', 4: 'E', 5: 'B', 6: 'E'}\n",
            "['E', 'B', 'G']\n",
            "Chord fits in C major scale: True\n"
          ]
        }
      ],
      "source": [
        "# @title Chord\n",
        "\n",
        "\n",
        "# Example\n",
        "chord = GuitarChord('E', 'm', transposable_figures, finger_ascending=[0, 0, 0, 2, 2, 0], starting_fret=1)\n",
        "print(chord)\n",
        "print(\"String Frequencies:\", chord.calculate_frequencies())\n",
        "print(\"Is Open Chord:\", chord.is_open())\n",
        "chord.transpose(0)\n",
        "print(chord.get_notes(include_strings=True))\n",
        "print(chord.get_notes())\n",
        "\n",
        "# Validate the chord against the C major scale\n",
        "ionian_scale = scales[\"ionian\"]\n",
        "tonic = \"C\"\n",
        "is_chord_in_scale = chord.validate_against_scale(tonic, ionian_scale)\n",
        "print(f\"Chord fits in C major scale: {is_chord_in_scale}\")\n"
      ]
    },
    {
      "cell_type": "code",
      "source": [
        "# @title Abstract Builders\n",
        "class AbstractBuilder:\n",
        "    def __init__(self):\n",
        "        self.image_size = None\n",
        "        self.frets_endpoints = None\n",
        "        self.strings_endpoints = None\n",
        "        self.notes_coordenates = None\n",
        "        self.name_coordenate = None\n",
        "        self.font = None\n",
        "        self.font_size = None\n",
        "\n",
        "        self.root = None\n",
        "        self.starting_fret = None\n",
        "\n",
        "        self.chord_type = None\n",
        "        self.finger_ascending = None\n",
        "\n",
        "        self.scale_name = None\n",
        "        self.scale = None\n",
        "\n",
        "    def draw_image(self):\n",
        "        raise NotImplementedError\n",
        "\n",
        "    def draw_frets(self):\n",
        "        raise NotImplementedError\n",
        "\n",
        "    def draw_strings(self):\n",
        "        raise NotImplementedError\n",
        "\n",
        "    def write_starting_fret(self):\n",
        "        raise NotImplementedError\n",
        "\n",
        "    def write_name(self, name):\n",
        "        raise NotImplementedError\n",
        "\n",
        "    def draw_notes(self, notes_style):\n",
        "        raise NotImplementedError\n",
        "\n",
        "    def get_result(self):\n",
        "        raise NotImplementedError\n",
        "\n",
        "class ShortAbstractBuilder(AbstractBuilder):\n",
        "    def __init__(self):\n",
        "        # Image size as a tuple (width, height)\n",
        "        self.image_size = (351, 351)\n",
        "\n",
        "        # Frets endpoints as a list of tuples of tuples (each tuple represents a line start and end point)\n",
        "        self.frets_endpoints = [\n",
        "            ((78, 107), (273, 107)),\n",
        "            ((78, 157), (273, 157)),\n",
        "            ((78, 207), (273, 207)),\n",
        "            ((78, 257), (273, 257)),\n",
        "            ((78, 307), (273, 307))\n",
        "        ]\n",
        "\n",
        "        # Strings endpoints as a list of tuples of tuples (each tuple represents a line start and end point)\n",
        "        self.strings_endpoints = [\n",
        "            ((273, 107), (273, 307)),\n",
        "            ((234, 107), (234, 307)),\n",
        "            ((195, 107), (195, 307)),\n",
        "            ((156, 107), (156, 307)),\n",
        "            ((117, 107), (117, 307)),\n",
        "            ((78, 107), (78, 307))\n",
        "        ]\n",
        "\n",
        "        # Notes coordinates as a dictionary for easy access\n",
        "        self.notes_coordenates = {\n",
        "            \"strings\": [273, 234, 195, 156, 117, 78],  # s1 to s6\n",
        "            \"frets\": [82, 132, 182, 232, 282]  # f0 to f4\n",
        "        }\n",
        "\n",
        "        # Name coordinate as a tuple (x, y)\n",
        "        self.name_coordenate = (175, 40)\n",
        "\n",
        "        # Font as a string\n",
        "        self.font = \"arial\"\n",
        "\n",
        "        # Font size as an integer\n",
        "        self.font_size = 12\n",
        "\n",
        "\n",
        "class LongAbstractBuilder(AbstractBuilder):\n",
        "    def __init__(self):\n",
        "        self.image_size = # ...\n",
        "        self.frets_endpoints = # ...\n",
        "        self.strings_endpoints = # ...\n",
        "        self.notes_coordenates = # ...\n",
        "        self.name_coordenate = # ...\n",
        "        self.font = # ...\n",
        "        self.font_size = # ...\n",
        "\n"
      ],
      "metadata": {
        "colab": {
          "base_uri": "https://localhost:8080/",
          "height": 141
        },
        "cellView": "form",
        "id": "vW5Waa1yJuqz",
        "outputId": "2f060fbb-e86c-4f73-d5c7-ba51f6d72fc2"
      },
      "execution_count": 5,
      "outputs": [
        {
          "output_type": "error",
          "ename": "SyntaxError",
          "evalue": "invalid syntax (<ipython-input-5-c5ed8a2cca62>, line 35)",
          "traceback": [
            "\u001b[0;36m  File \u001b[0;32m\"<ipython-input-5-c5ed8a2cca62>\"\u001b[0;36m, line \u001b[0;32m35\u001b[0m\n\u001b[0;31m    self.image_size = # ...\u001b[0m\n\u001b[0m                      ^\u001b[0m\n\u001b[0;31mSyntaxError\u001b[0m\u001b[0;31m:\u001b[0m invalid syntax\n"
          ]
        }
      ]
    },
    {
      "cell_type": "code",
      "source": [
        "# @title Concrete Builders\n",
        "class ShortChordBuilder(ShortAbstractBuilder):\n",
        "    def __init__(self):\n",
        "        super().__init__()\n",
        "        self.is_scale = False\n",
        "        # Implement specific methods\n",
        "\n",
        "class ShortScaleBuilder(ShortAbstractBuilder):\n",
        "    def __init__(self):\n",
        "        super().__init__()\n",
        "        self.is_scale = True\n",
        "        # Implement specific methods\n",
        "\n",
        "class LongChordBuilder(LongAbstractBuilder):\n",
        "    def __init__(self):\n",
        "        super().__init__()\n",
        "        self.is_scale = False\n",
        "        # Implement specific methods\n",
        "\n",
        "class LongScaleBuilder(LongAbstractBuilder):\n",
        "    def __init__(self):\n",
        "        super().__init__()\n",
        "        self.is_scale = True\n",
        "        # Implement specific methods\n"
      ],
      "metadata": {
        "cellView": "form",
        "id": "kvsfnmRdJyjU"
      },
      "execution_count": null,
      "outputs": []
    },
    {
      "cell_type": "code",
      "source": [
        "# @title Director\n",
        "class Director:\n",
        "    def __init__(self, builder):\n",
        "        self._builder = builder\n",
        "\n",
        "    def build_chord(self, chord):\n",
        "        self._builder.root = chord.root\n",
        "        self._builder.chord_type = chord.chord_type\n",
        "        self._builder.finger_ascending = chord.finger_ascending\n",
        "        self._builder.starting_fret = chord.starting_fret\n",
        "        # Call builder methods\n",
        "        self._builder.draw_image()\n",
        "        # ... other builder methods\n",
        "\n",
        "    def build_scale(self, scale):\n",
        "        self._builder.root = scale.root\n",
        "        self._builder.scale_name = scale.name\n",
        "        self._builder.starting_fret = scale.starting_fret\n",
        "        self._builder.scale = scale\n",
        "        # Call builder methods\n",
        "        self._builder.draw_image()\n",
        "        # ... other builder methods\n"
      ],
      "metadata": {
        "cellView": "form",
        "id": "rXVmS8gTJ01V"
      },
      "execution_count": null,
      "outputs": []
    },
    {
      "cell_type": "code",
      "source": [
        "# @title Execution\n",
        "# Example usage for a chord\n",
        "chord = GuitarChord('E', 'm', transposable_figures, finger_ascending=[0, 0, 0, 2, 2, 0], starting_fret=1)\n",
        "builder = ShortChordBuilder()\n",
        "director = Director(builder)\n",
        "director.build_chord(chord)\n",
        "result = builder.get_result()\n",
        "\n",
        "# Example usage for a scale would be similar\n"
      ],
      "metadata": {
        "cellView": "form",
        "id": "TCvhWtBLJ11y"
      },
      "execution_count": null,
      "outputs": []
    }
  ]
}