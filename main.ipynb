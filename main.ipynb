{
  "nbformat": 4,
  "nbformat_minor": 0,
  "metadata": {
    "colab": {
      "provenance": [],
      "authorship_tag": "ABX9TyP2jrzpYX99k5JNkT4ddF87",
      "include_colab_link": true
    },
    "kernelspec": {
      "name": "python3",
      "display_name": "Python 3"
    },
    "language_info": {
      "name": "python"
    }
  },
  "cells": [
    {
      "cell_type": "markdown",
      "metadata": {
        "id": "view-in-github",
        "colab_type": "text"
      },
      "source": [
        "<a href=\"https://colab.research.google.com/github/GenaroHacker/creating_chord_collection/blob/main/main.ipynb\" target=\"_parent\"><img src=\"https://colab.research.google.com/assets/colab-badge.svg\" alt=\"Open In Colab\"/></a>"
      ]
    },
    {
      "cell_type": "code",
      "execution_count": 3,
      "metadata": {
        "colab": {
          "base_uri": "https://localhost:8080/"
        },
        "id": "W7O7u4sZN4zg",
        "outputId": "81ab5b8a-6aad-4944-e8da-f6354bef9dee"
      },
      "outputs": [
        {
          "output_type": "stream",
          "name": "stdout",
          "text": [
            "Guitar Chord: F#+, Starting Fret: 2, Difficulty: 3, Finger Positions: [2, 3, 3, 4, None, None]\n"
          ]
        }
      ],
      "source": [
        "class GuitarChord:\n",
        "    def __init__(self, root, chord_type, starting_fret, difficulty, finger_ascending):\n",
        "        self.root = root\n",
        "        self.chord_type = chord_type\n",
        "        self.starting_fret = starting_fret\n",
        "        self.difficulty = difficulty\n",
        "        self.finger_ascending = finger_ascending\n",
        "\n",
        "    def __str__(self):\n",
        "        return f\"Guitar Chord: {self.root}{self.chord_type}, Starting Fret: {self.starting_fret}, Difficulty: {self.difficulty}, Finger Positions: {self.finger_ascending}\"\n",
        "\n",
        "# Example usage\n",
        "chord = GuitarChord('F#', '+', 2, 3, [2, 3, 3, 4, None, None])\n",
        "print(chord)\n"
      ]
    },
    {
      "cell_type": "code",
      "source": [
        "import sqlite3\n",
        "from collections import defaultdict\n",
        "\n",
        "class ChordCollection:\n",
        "    def __init__(self):\n",
        "        self.chords = defaultdict(list)\n",
        "\n",
        "    def load(self, db_path):\n",
        "        self.chords.clear()\n",
        "        connection = sqlite3.connect(db_path)\n",
        "        cursor = connection.cursor()\n",
        "\n",
        "        cursor.execute('SELECT ROOT, TYPE, DIFFICULTY, STARTING_FRET, STRING_1, STRING_2, STRING_3, STRING_4, STRING_5, STRING_6 FROM TABLE_CHORDS')\n",
        "        rows = cursor.fetchall()\n",
        "\n",
        "        for row in rows:\n",
        "            root, chord_type, difficulty, starting_fret, *fingers = row\n",
        "            chord = GuitarChord(root, chord_type, starting_fret, difficulty, fingers)\n",
        "            self.chords[root].append(chord)\n",
        "\n",
        "        connection.close()\n",
        "\n",
        "# Example usage\n",
        "chord_collection = ChordCollection()\n",
        "chord_collection.load('/content/chord_collection.db')\n",
        "print(chord_collection.chords[\"G\"][0])\n"
      ],
      "metadata": {
        "colab": {
          "base_uri": "https://localhost:8080/"
        },
        "id": "u7geZFZHVCDE",
        "outputId": "42882300-5cd9-453d-d361-bc1cd129b016"
      },
      "execution_count": 8,
      "outputs": [
        {
          "output_type": "stream",
          "name": "stdout",
          "text": [
            "Guitar Chord: G, Starting Fret: None, Difficulty: 3, Finger Positions: [3, 0, 0, 0, 2, 3]\n"
          ]
        }
      ]
    }
  ]
}