{
  "nbformat": 4,
  "nbformat_minor": 0,
  "metadata": {
    "colab": {
      "provenance": [],
      "authorship_tag": "ABX9TyMfjgV9ocao17zc/Oay1nJX",
      "include_colab_link": true
    },
    "kernelspec": {
      "name": "python3",
      "display_name": "Python 3"
    },
    "language_info": {
      "name": "python"
    }
  },
  "cells": [
    {
      "cell_type": "markdown",
      "metadata": {
        "id": "view-in-github",
        "colab_type": "text"
      },
      "source": [
        "<a href=\"https://colab.research.google.com/github/GenaroHacker/creating_chord_collection/blob/main/reading_the_chords.ipynb\" target=\"_parent\"><img src=\"https://colab.research.google.com/assets/colab-badge.svg\" alt=\"Open In Colab\"/></a>"
      ]
    },
    {
      "cell_type": "code",
      "execution_count": 24,
      "metadata": {
        "id": "5VuXHixWmh2k",
        "cellView": "form"
      },
      "outputs": [],
      "source": [
        "\n",
        "\n",
        "%%capture\n",
        "#@title Set Up\n",
        "!git clone https://github.com/GenaroHacker/write_imports.git\n",
        "from write_imports.write_imports import write_imports\n",
        "\n",
        "!git clone https://github.com/GenaroHacker/creating_chord_collection.git\n",
        "\n",
        "\n",
        "from creating_chord_collection.collection.resources.scales import scales\n",
        "from creating_chord_collection.collection.resources.transposable_figures import transposable_figures\n",
        "\n",
        "\n",
        "\n"
      ]
    },
    {
      "cell_type": "code",
      "source": [
        "\n",
        "# Delete this line to see the new imports\n",
        "%%capture\n",
        "\n",
        "\n",
        "\n",
        "#@title Import Statements\n",
        "#Modules: ['creating_chord_collection', 'write_imports']\n",
        "\n",
        "\n",
        "\n",
        "\n",
        "from creating_chord_collection.builder.director import Director\n",
        "\n",
        "from creating_chord_collection.builder.builders import AbstractBuilder\n",
        "from creating_chord_collection.builder.builders import ShortBuilder\n",
        "from creating_chord_collection.builder.builders import LongBuilder\n",
        "\n",
        "from creating_chord_collection.collection.chord import GuitarChord\n",
        "\n",
        "from creating_chord_collection.collection.collection import ChordCollection\n",
        "\n",
        "\n",
        "\n",
        "from write_imports.write_imports import write_imports\n",
        "\n",
        "from write_imports.LearningPython.BasicExamples.intro_functions import print_hello_world\n",
        "\n",
        "\n",
        "\n",
        "\n",
        "\n",
        "print(write_imports([]))\n"
      ],
      "metadata": {
        "cellView": "form",
        "id": "IMoDab1rmz-G"
      },
      "execution_count": 25,
      "outputs": []
    },
    {
      "cell_type": "code",
      "source": [
        "# @title txt to dict\n",
        "def parse_chords(file_path):\n",
        "    with open(file_path, 'r') as file:\n",
        "        lines = file.readlines()\n",
        "\n",
        "    chords = {}\n",
        "    current_chord = None\n",
        "\n",
        "    for line in lines:\n",
        "        line = line.strip()\n",
        "        if not line:\n",
        "            continue\n",
        "\n",
        "        # Check if the line is a chord name (no spaces) or a chord position (contains spaces)\n",
        "        if ' ' in line:\n",
        "            if current_chord:\n",
        "                chords[current_chord].append(line)\n",
        "        else:\n",
        "            current_chord = line\n",
        "            chords[current_chord] = []\n",
        "\n",
        "    return chords\n",
        "\n",
        "# Example usage\n",
        "file_path = '/content/creating_chord_collection/chords.txt'  # Replace with your file path\n",
        "chord_dict = parse_chords(file_path)\n",
        "print(chord_dict['A'][0:2])\n",
        "print(chord_dict['Gbmmaj11/A'][0:2])\n"
      ],
      "metadata": {
        "colab": {
          "base_uri": "https://localhost:8080/"
        },
        "cellView": "form",
        "id": "QGtGjFR0m6ub",
        "outputId": "3e3ede5a-aba9-4111-a911-7941dedf4fea"
      },
      "execution_count": 26,
      "outputs": [
        {
          "output_type": "stream",
          "name": "stdout",
          "text": [
            "['x 0 2 2 2 0', '5 7 7 6 5 5']\n",
            "['x 0 3 2 0 2', '5 4 4 4 6 4']\n"
          ]
        }
      ]
    },
    {
      "cell_type": "code",
      "source": [
        "# @title Split by / character\n",
        "def process_keys(my_dict):\n",
        "    absolute_keys_dict = {}\n",
        "    left_relative_keys_dict = {}\n",
        "    right_relative_keys_dict = {}\n",
        "\n",
        "    for key, value in my_dict.items():\n",
        "        if '/' in key:\n",
        "            parts = key.split('/')\n",
        "            if len(parts) != 2:\n",
        "                raise ValueError(\"Key contains more than one '/' character: \" + key)\n",
        "            left_relative_keys_dict[parts[0]] = value\n",
        "            right_relative_keys_dict[parts[1]] = value\n",
        "        else:\n",
        "            absolute_keys_dict[key] = value\n",
        "\n",
        "    return absolute_keys_dict, left_relative_keys_dict, right_relative_keys_dict\n",
        "\n",
        "# Example usage\n",
        "my_dict = chord_dict\n",
        "\n",
        "try:\n",
        "    abs_keys_dict, left_rels_dict, right_rels_dict = process_keys(my_dict)\n",
        "    #print(\"Absolute Keys Dict:\", abs_keys_dict)\n",
        "    #print(\"Left Parts of Relative Keys Dict:\", left_rels_dict)\n",
        "    #print(\"Right Parts of Relative Keys Dict:\", right_rels_dict)\n",
        "except ValueError as e:\n",
        "    print(\"Error:\", e)\n"
      ],
      "metadata": {
        "cellView": "form",
        "id": "PxNM9naEp4FB"
      },
      "execution_count": 27,
      "outputs": []
    },
    {
      "cell_type": "code",
      "source": [
        "['Db', 'Eb', 'Gb', 'Ab', 'Bb', 'C#', 'D#', 'F#', 'G#', 'A#', 'C', 'D', 'E', 'F', 'G', 'A', 'B']"
      ],
      "metadata": {
        "colab": {
          "base_uri": "https://localhost:8080/"
        },
        "id": "ZeRy23PvxKaW",
        "outputId": "ffe8c196-130f-4014-fba7-c934e088081d"
      },
      "execution_count": 30,
      "outputs": [
        {
          "output_type": "execute_result",
          "data": {
            "text/plain": [
              "['Db',\n",
              " 'Eb',\n",
              " 'Gb',\n",
              " 'Ab',\n",
              " 'Bb',\n",
              " 'C#',\n",
              " 'D#',\n",
              " 'F#',\n",
              " 'G#',\n",
              " 'A#',\n",
              " 'C',\n",
              " 'D',\n",
              " 'E',\n",
              " 'F',\n",
              " 'G',\n",
              " 'A',\n",
              " 'B']"
            ]
          },
          "metadata": {},
          "execution_count": 30
        }
      ]
    },
    {
      "cell_type": "code",
      "source": [
        "# @title Merge into one dict\n",
        "def merge_dicts(dict_list):\n",
        "    merged_dict = {}\n",
        "    for d in dict_list:\n",
        "        for key, value in d.items():\n",
        "            if key not in merged_dict:\n",
        "                merged_dict[key] = set()\n",
        "            merged_dict[key].update(value)\n",
        "\n",
        "    # Convert sets back to lists\n",
        "    for key in merged_dict:\n",
        "        merged_dict[key] = list(merged_dict[key])\n",
        "\n",
        "    return merged_dict\n",
        "\n",
        "# Example usage\n",
        "dict_list = [abs_keys_dict, left_rels_dict, right_rels_dict]\n",
        "\n",
        "merged = merge_dicts(dict_list)\n",
        "print(merged[\"G\"])\n"
      ],
      "metadata": {
        "colab": {
          "base_uri": "https://localhost:8080/"
        },
        "id": "GtBoYz1dtqbN",
        "outputId": "d0b94621-38f2-493c-99c3-6d28323b1d39"
      },
      "execution_count": 33,
      "outputs": [
        {
          "output_type": "stream",
          "name": "stdout",
          "text": [
            "['x 10 9 7 8 7', '3 2 5 x 3 x', '4 2 x 4 3 3', 'x 11 9 x 8 10', '4 2 5 x 3 3', 'x x 6 4 3 3', 'x 10 12 12 12 10', '3 5 5 4 3 3', '4 5 5 4 x 7', '3 4 4 4 6 4', '3 x 3 1 0 2', 'x 11 x 12 12 10', '3 2 0 0 3 3', 'x 11 9 12 x 10', '4 5 x 4 3 3', '15 14 12 12 15 x', 'x 10 9 x 8 10', 'x x 6 7 8 7', '4 x 5 4 3 3', 'x 10 9 x 12 10', '3 2 x 4 3 x', 'x 10 9 12 x 10', '15 14 12 12 12 15', 'x 11 12 12 12 x', 'x 10 9 7 x 10', 'x x 5 7 8 7', '3 2 4 1 x 1', '3 2 0 0 0 3', '4 5 5 7 x 7']\n"
          ]
        }
      ]
    },
    {
      "cell_type": "code",
      "source": [
        "def convert_and_invert(input_string):\n",
        "    # Split the string by spaces\n",
        "    elements = input_string.split()\n",
        "\n",
        "    # Convert 'x' to None and other elements to integers\n",
        "    converted_elements = [None if el == 'x' else int(el) for el in elements]\n",
        "\n",
        "    # Invert the order of the list\n",
        "    inverted_elements = converted_elements[::-1]\n",
        "\n",
        "    return inverted_elements\n",
        "\n",
        "# Example usage\n",
        "input_string = 'x 11 9 x 8 10'\n",
        "result = convert_and_invert(input_string)\n",
        "print(result)\n"
      ],
      "metadata": {
        "id": "pO_tl5cIyevV",
        "outputId": "c00bc141-0d79-49f7-959d-a14dcb1a010c",
        "colab": {
          "base_uri": "https://localhost:8080/"
        }
      },
      "execution_count": 34,
      "outputs": [
        {
          "output_type": "stream",
          "name": "stdout",
          "text": [
            "[10, 8, None, 9, 11, None]\n"
          ]
        }
      ]
    }
  ]
}