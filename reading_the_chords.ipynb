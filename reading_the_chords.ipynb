{
  "nbformat": 4,
  "nbformat_minor": 0,
  "metadata": {
    "colab": {
      "provenance": [],
      "authorship_tag": "ABX9TyN3dIOjosD2nZdd8+vQnEAt",
      "include_colab_link": true
    },
    "kernelspec": {
      "name": "python3",
      "display_name": "Python 3"
    },
    "language_info": {
      "name": "python"
    }
  },
  "cells": [
    {
      "cell_type": "markdown",
      "metadata": {
        "id": "view-in-github",
        "colab_type": "text"
      },
      "source": [
        "<a href=\"https://colab.research.google.com/github/GenaroHacker/creating_chord_collection/blob/main/reading_the_chords.ipynb\" target=\"_parent\"><img src=\"https://colab.research.google.com/assets/colab-badge.svg\" alt=\"Open In Colab\"/></a>"
      ]
    },
    {
      "cell_type": "code",
      "execution_count": 1,
      "metadata": {
        "id": "5VuXHixWmh2k",
        "cellView": "form"
      },
      "outputs": [],
      "source": [
        "\n",
        "\n",
        "%%capture\n",
        "#@title Set Up\n",
        "!git clone https://github.com/GenaroHacker/write_imports.git\n",
        "from write_imports.write_imports import write_imports\n",
        "\n",
        "!git clone https://github.com/GenaroHacker/creating_chord_collection.git\n",
        "\n",
        "\n",
        "from creating_chord_collection.collection.resources.scales import scales\n",
        "from creating_chord_collection.collection.resources.transposable_figures import transposable_figures\n",
        "\n",
        "\n",
        "\n"
      ]
    },
    {
      "cell_type": "code",
      "source": [
        "\n",
        "# Delete this line to see the new imports\n",
        "%%capture\n",
        "\n",
        "\n",
        "\n",
        "#@title Import Statements\n",
        "#Modules: ['creating_chord_collection', 'write_imports']\n",
        "\n",
        "\n",
        "\n",
        "\n",
        "from creating_chord_collection.builder.director import Director\n",
        "\n",
        "from creating_chord_collection.builder.builders import AbstractBuilder\n",
        "from creating_chord_collection.builder.builders import ShortBuilder\n",
        "from creating_chord_collection.builder.builders import LongBuilder\n",
        "\n",
        "from creating_chord_collection.collection.chord import GuitarChord\n",
        "\n",
        "from creating_chord_collection.collection.collection import ChordCollection\n",
        "\n",
        "\n",
        "\n",
        "from write_imports.write_imports import write_imports\n",
        "\n",
        "from write_imports.LearningPython.BasicExamples.intro_functions import print_hello_world\n",
        "\n",
        "\n",
        "\n",
        "\n",
        "\n",
        "print(write_imports([]))\n"
      ],
      "metadata": {
        "cellView": "form",
        "id": "IMoDab1rmz-G"
      },
      "execution_count": 2,
      "outputs": []
    },
    {
      "cell_type": "code",
      "source": [
        "# @title txt to dict\n",
        "def parse_chords(file_path):\n",
        "    with open(file_path, 'r') as file:\n",
        "        lines = file.readlines()\n",
        "\n",
        "    chords = {}\n",
        "    current_chord = None\n",
        "\n",
        "    for line in lines:\n",
        "        line = line.strip()\n",
        "        if not line:\n",
        "            continue\n",
        "\n",
        "        # Check if the line is a chord name (no spaces) or a chord position (contains spaces)\n",
        "        if ' ' in line:\n",
        "            if current_chord:\n",
        "                chords[current_chord].append(line)\n",
        "        else:\n",
        "            current_chord = line\n",
        "            chords[current_chord] = []\n",
        "\n",
        "    return chords\n",
        "\n",
        "# Example usage\n",
        "file_path = '/content/creating_chord_collection/chords.txt'  # Replace with your file path\n",
        "chord_dict = parse_chords(file_path)\n",
        "print(chord_dict['A'][0:2])\n",
        "print(chord_dict['Gbmmaj11/A'][0:2])\n"
      ],
      "metadata": {
        "cellView": "form",
        "id": "QGtGjFR0m6ub",
        "outputId": "c9c07646-70e9-4e7a-ca0d-8f77f9a6551b",
        "colab": {
          "base_uri": "https://localhost:8080/"
        }
      },
      "execution_count": 14,
      "outputs": [
        {
          "output_type": "stream",
          "name": "stdout",
          "text": [
            "['x 0 2 2 2 0', '5 7 7 6 5 5']\n",
            "['x 0 3 2 0 2', '5 4 4 4 6 4']\n"
          ]
        }
      ]
    }
  ]
}